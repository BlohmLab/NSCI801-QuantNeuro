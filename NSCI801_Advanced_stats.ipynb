{
 "cells": [
  {
   "cell_type": "markdown",
   "metadata": {
    "id": "7XtQej9LUQtM"
   },
   "source": [
    "# Review"
   ]
  },
  {
   "cell_type": "markdown",
   "metadata": {
    "id": "TH1ldmxFUQtO"
   },
   "source": [
    "I know this stuff is dry and you probably feel like tired and a bit confused - but you are all doing great!!!"
   ]
  },
  {
   "cell_type": "markdown",
   "metadata": {
    "id": "NO75AwAtUQtQ"
   },
   "source": [
    "# ANOVA"
   ]
  },
  {
   "cell_type": "markdown",
   "metadata": {
    "slideshow": {
     "slide_type": "notes"
    }
   },
   "source": [
    "1) https://en.wikipedia.org/wiki/Analysis_of_variance\n",
    "2) https://www.khanacademy.org/math/statistics-probability/analysis-of-variance-anova-library#analysis-of-variance-anova"
   ]
  },
  {
   "cell_type": "markdown",
   "metadata": {
    "id": "7W8OnfD6UQtS"
   },
   "source": [
    "The analysis of variance (ANOVA) can be thought of as an extension to the t-test. The independent t-test is used to compare the means of a condition between 2 groups. ANOVA is used when one wants to compare the means of a condition between 2+ groups. ANOVA tests the data as a whole. Another way to say that is this, ANOVA tests if there is a difference in the mean somewhere in the model (testing if there was an overall effect), but it does not tell one where the difference is if the there is one. To find out where the difference is between the groups, one has to conduct post-hoc tests."
   ]
  },
  {
   "cell_type": "markdown",
   "metadata": {
    "id": "4v1az4yUUQtU"
   },
   "source": [
    "## Assumptions"
   ]
  },
  {
   "cell_type": "markdown",
   "metadata": {
    "id": "NgRYZwGOUQtV"
   },
   "source": [
    "There are 3 assumptions that need to be met for the results of an ANOVA test to be considered accurate and trust worthy. It’s important to note the the assumptions apply to the residuals and not the variables themselves. The ANOVA assumptions are the same as for linear regression and are:"
   ]
  },
  {
   "cell_type": "markdown",
   "metadata": {
    "id": "HJvXgV30UQtW"
   },
   "source": [
    "1 - Normality - \n",
    "Caveat to this is, if group sizes are equal, the F-statistic is robust to violations of normality\n",
    "\n",
    "2 - Homogeneity of variance - \n",
    "Same caveat as above, if group sizes are equal, the F-statistic is robust to this violation\n",
    "\n",
    "3 - Independent observations"
   ]
  },
  {
   "cell_type": "markdown",
   "metadata": {
    "id": "zOQyS_h0UQtX"
   },
   "source": [
    "## Lets Try an Example"
   ]
  },
  {
   "cell_type": "markdown",
   "metadata": {
    "id": "1P60JcUvUQtY"
   },
   "source": [
    "### Question:"
   ]
  },
  {
   "cell_type": "markdown",
   "metadata": {
    "id": "90YUaz4lUQtZ"
   },
   "source": [
    "#### Which Drug dosage improve sleep the best?"
   ]
  },
  {
   "cell_type": "code",
   "execution_count": null,
   "metadata": {
    "id": "EZE9_4rHUQta"
   },
   "outputs": [],
   "source": [
    "# our groups: \n",
    "High_dose = [25,30,28,36,29]\n",
    "Medium_dose = [45,55,29,56,40]\n",
    "Low_dose = [30,29,33,37,27]\n",
    "Placebo = [54,60,51,62,73]"
   ]
  },
  {
   "cell_type": "code",
   "execution_count": null,
   "metadata": {
    "id": "p2ji-GbbUQtd"
   },
   "outputs": [],
   "source": [
    "import pandas as pd\n",
    "import numpy as np\n",
    "import matplotlib.pyplot as plt\n",
    "\n",
    "data1 = np.array([High_dose,Medium_dose,Low_dose,Placebo])\n",
    "df = pd.DataFrame(data=data1.transpose(), columns = ['High_dose','Medium_dose','Low_dose','Placebo'])"
   ]
  },
  {
   "cell_type": "code",
   "execution_count": null,
   "metadata": {
    "id": "zMUi23KxUQtf",
    "outputId": "ea2436c4-f1fa-48d4-eef5-8571cf055132"
   },
   "outputs": [
    {
     "name": "stdout",
     "output_type": "stream",
     "text": [
      "   High_dose  Medium_dose  Low_dose  Placebo\n",
      "0         25           45        30       54\n",
      "1         30           55        29       60\n",
      "2         28           29        33       51\n",
      "3         36           56        37       62\n",
      "4         29           40        27       73\n"
     ]
    },
    {
     "data": {
      "image/png": "[encoded data removed]",
      "text/plain": [
       "<Figure size 432x288 with 1 Axes>"
      ]
     },
     "metadata": {
      "needs_background": "light",
      "tags": []
     },
     "output_type": "display_data"
    }
   ],
   "source": [
    "print(df)\n",
    "df.boxplot(column = ['High_dose','Medium_dose','Low_dose','Placebo'], grid=False)\n",
    "plt.show()"
   ]
  },
  {
   "cell_type": "markdown",
   "metadata": {
    "id": "LUlBg0CCUQtj"
   },
   "source": [
    "Looking at our sample, we could say that sleep times range from ~20 minutes to ~75 minutes. If we ignore the information about the type, the best estimation we could give for a sleeptime for the drug would be between ~20 and ~75 minutes. Let’s for now call this total variation.\n",
    "\n",
    "The next step is to split this total variation in two: Between-Group Variation and Within-Group Variation"
   ]
  },
  {
   "cell_type": "markdown",
   "metadata": {
    "id": "zoqBLyRFUQtk"
   },
   "source": [
    "Between-Group Variation is Explained by our drug type:\n",
    "\n",
    "If we add the variable company in the graph, we see that if we know which drug is taken, we can give a more precise range of sleep times.\n",
    "\n",
    "If Drug A is taken, it takes between ~20 and ~35 minutes. \n",
    "\n",
    "If Drug B is taken, it takes between ~30 and ~55 minutes.\n",
    "\n",
    "If Drug C is taken, it takes between ~25 and ~35 minutes.\n",
    "\n",
    "If Placebo is taken, it takes between ~50 and ~75 minutes.\n",
    "\n",
    "\n",
    "This phenomenon is due to the Between-Group variation: a quantification of the variation explained by our variable."
   ]
  },
  {
   "cell_type": "markdown",
   "metadata": {
    "id": "VIe0JO38UQtl"
   },
   "source": [
    "Within-Group Variation is not Explained by our drug type:\n",
    "\n",
    "However, there is also some part of variation that cannot be explained by our variable ‘Drug’: It refers to variations caused by differences within individual groups (or levels). In other words, not all the values within each group (e.g. means) are the same.\n",
    "\n",
    "Since we do not have those new variables, the variation remains unexplained and is called the within-group variation."
   ]
  },
  {
   "cell_type": "markdown",
   "metadata": {
    "id": "6jmcQPqGUQtl"
   },
   "source": [
    "### Sum of Squares"
   ]
  },
  {
   "cell_type": "markdown",
   "metadata": {
    "id": "N4v8V37eUQtm"
   },
   "source": [
    "Sum of Squares Total\n",
    "Let’s get to the action! What I described before as variation is mathematically measured by the Sum of Squares,\n",
    "\n",
    "![hmm](https://raw.githubusercontent.com/BlohmLab/NSCI801-QuantNeuro/master/Figures/1A_0HXQYsl-1VOC_YjxL9JU9Q.png)\n"
   ]
  },
  {
   "cell_type": "markdown",
   "metadata": {
    "id": "pmvumNhTUQtn"
   },
   "source": [
    "## Sum of Squares Residual\n",
    "\n",
    "The computation for residual Sum of Squares is slightly different because it takes not the overall average, but the four group averages."
   ]
  },
  {
   "cell_type": "markdown",
   "metadata": {
    "id": "FePcJ_E3UQtn"
   },
   "source": [
    "## Sum of Squares Explained\n",
    "\n",
    "Having computed the total sum of squares and the residual sum of squares, we can now compute the Explained Sum of Squares using:\n",
    "\n",
    "\n",
    "![1*gM0yge15fq_UnNFNY7r0Uw.png](https://raw.githubusercontent.com/BlohmLab/NSCI801-QuantNeuro/master/Figures/1A_gM0yge15fq_UnNFNY7r0Uw.png)\n",
    "\n"
   ]
  },
  {
   "cell_type": "markdown",
   "metadata": {
    "id": "2mgrxCMSUQto"
   },
   "source": [
    "## Degrees of freedom\n",
    "\n",
    "We need them in further computation:\n",
    "\n",
    "df1 = df of the explained part = number of groups — 1\n",
    "df2 = df of the residual = number of observations — number of groups\n",
    "\n",
    "In our example, df1 = 3 and df2 = 21.\n"
   ]
  },
  {
   "cell_type": "markdown",
   "metadata": {
    "id": "k_VpiT1uUQto"
   },
   "source": [
    "## Mean Squares\n",
    "\n",
    "The statistical test that is central in ANOVA is the F-test. The null hypothesis states that the mean of all groups is equal, which implies that our model has no explanatory value and that we don’t have proof for choosing one drug over another.\n",
    "\n",
    "The alternative hypothesis states that at least one of the means is different, which would be a reason to go more in-depth and find out which drug works better?\n",
    "\n",
    "We compute the Mean Squares as follows:\n",
    "\n",
    "![1*0LXxDWgMYiz4EXft5j_Ixw.png](https://raw.githubusercontent.com/BlohmLab/NSCI801-QuantNeuro/master/Figures/1A_0LXxDWgMYiz4EXft5j_Ixw.png)"
   ]
  },
  {
   "cell_type": "markdown",
   "metadata": {
    "id": "v_VjgUIMUQtp"
   },
   "source": [
    "## F Statistic\n",
    "\n",
    "We use the Mean Squares to compute the F statistic as the ratio between explained vs unexplained variation:\n",
    "\n",
    "\n",
    "![1*IOV_eIIQHXZq4taC0lLn2A.png](https://raw.githubusercontent.com/BlohmLab/NSCI801-QuantNeuro/master/Figures/1A_IOV_eIIQHXZq4taC0lLn2A.png)"
   ]
  },
  {
   "cell_type": "code",
   "execution_count": null,
   "metadata": {
    "id": "hD80LeXNUQtq",
    "outputId": "cd0fedf8-287d-40f0-9e5d-09269761acdb"
   },
   "outputs": [
    {
     "name": "stdout",
     "output_type": "stream",
     "text": [
      "[[25 30 28 36 29]\n",
      " [45 55 29 56 40]\n",
      " [30 29 33 37 27]\n",
      " [54 60 51 62 73]]\n",
      "The group means are: Drug A  29.6  Drug B:  45.0 , Drug C:  31.2 , Placebo:  60.0\n"
     ]
    }
   ],
   "source": [
    "### lets calculate the means and see what we get here...\n",
    "print(data1)\n",
    "print(\"The group means are: Drug A \", np.mean(data1,1)[0],\" Drug B: \", np.mean(data1,1)[1], \", Drug C: \", np.mean(data1,1)[2], \", Placebo: \", np.mean(data1,1)[3])\n"
   ]
  },
  {
   "cell_type": "code",
   "execution_count": null,
   "metadata": {
    "id": "0a0iKTXyUQts",
    "outputId": "be924a62-0bc5-4642-9bc3-a1460220cc44"
   },
   "outputs": [
    {
     "name": "stdout",
     "output_type": "stream",
     "text": [
      "The f-Value is:  17.492810457516338  The p-value is:  2.639241146210922e-05\n"
     ]
    }
   ],
   "source": [
    "import scipy.stats as stats\n",
    "fvalue, pvalue = stats.f_oneway(df['High_dose'], df['Medium_dose'], df['Low_dose'], df['Placebo'])\n",
    "print(\"The f-Value is: \", fvalue, \" The p-value is: \", pvalue)"
   ]
  },
  {
   "cell_type": "code",
   "execution_count": null,
   "metadata": {
    "id": "1Uw0QqO_UQtu",
    "outputId": "41f85d67-a486-43b2-ec22-d1e39020bd07"
   },
   "outputs": [
    {
     "name": "stdout",
     "output_type": "stream",
     "text": [
      "            df   sum_sq   mean_sq         F    PR(>F)\n",
      "Drug       3.0  3010.95  1003.650  17.49281  0.000026\n",
      "Residual  16.0   918.00    57.375       NaN       NaN\n"
     ]
    }
   ],
   "source": [
    "import statsmodels.api as sm\n",
    "from statsmodels.formula.api import ols\n",
    "data_vals = (data1).reshape(-1,1)[:,0]\n",
    "# print(data_vals)\n",
    "data_heads = ['Drug A']*5+['Drug B']*5+['Drug C']*5+['Placebo']*5\n",
    "data_tot = [[data_heads[num] , i ]for num,i in enumerate(data_vals)]\n",
    "\n",
    "df_data = pd.DataFrame(data_tot, columns= ['Drug','SleepTime'])\n",
    "\n",
    "lm = ols('SleepTime ~ Drug',data=df_data).fit()\n",
    "table = sm.stats.anova_lm(lm) # Type 2 ANOVA DataFrame\n",
    "print(table)\n",
    "\n"
   ]
  },
  {
   "cell_type": "markdown",
   "metadata": {
    "id": "umqjuH-iUQtw"
   },
   "source": [
    "## So we know that there is a difference here but where??"
   ]
  },
  {
   "cell_type": "markdown",
   "metadata": {
    "id": "IihndDCOUQtx"
   },
   "source": [
    "#### So the question is: Which one do we pick???\n",
    "\n"
   ]
  },
  {
   "cell_type": "markdown",
   "metadata": {
    "id": "0ZFOxpPGUQtx"
   },
   "source": [
    "## Post-Hoc Testing\n",
    "\n",
    "This is where post-hoc testing comes in:\n",
    "\n",
    "And there are a variety of post-hoc tests, Tukeys, Fisher's Least Significant Difference Test"
   ]
  },
  {
   "cell_type": "markdown",
   "metadata": {},
   "source": [
    "https://en.wikipedia.org/wiki/Post_hoc_analysis"
   ]
  },
  {
   "cell_type": "code",
   "execution_count": null,
   "metadata": {
    "id": "fAKLmn4LUQty",
    "outputId": "38e953db-66cd-4860-c4fa-49c7a1b6550e"
   },
   "outputs": [
    {
     "name": "stdout",
     "output_type": "stream",
     "text": [
      " Multiple Comparison of Means - Tukey HSD, FWER=0.05  \n",
      "======================================================\n",
      "group1  group2 meandiff p-adj   lower    upper  reject\n",
      "------------------------------------------------------\n",
      "Drug A  Drug B     15.4 0.0251   1.6929 29.1071   True\n",
      "Drug A  Drug C      1.6    0.9 -12.1071 15.3071  False\n",
      "Drug A Placebo     30.4  0.001  16.6929 44.1071   True\n",
      "Drug B  Drug C    -13.8 0.0482 -27.5071 -0.0929   True\n",
      "Drug B Placebo     15.0 0.0296   1.2929 28.7071   True\n",
      "Drug C Placebo     28.8  0.001  15.0929 42.5071   True\n",
      "------------------------------------------------------\n"
     ]
    }
   ],
   "source": [
    "from statsmodels.stats.multicomp import pairwise_tukeyhsd\n",
    "from statsmodels.stats.multicomp import MultiComparison\n",
    "\n",
    "mc = pairwise_tukeyhsd(df_data['SleepTime'],df_data['Drug'])\n",
    "mc_results = mc.summary()\n",
    "print(mc_results)\n",
    "\n"
   ]
  },
  {
   "cell_type": "markdown",
   "metadata": {
    "id": "xre5UPOoUQtz"
   },
   "source": [
    "## CALCULATING MODEL EFFECT SIZE"
   ]
  },
  {
   "cell_type": "markdown",
   "metadata": {
    "id": "GPMcy8azUQt0"
   },
   "source": [
    "Something that is useful is the effect size. The effect size tells us how much of an impact the experiment will have in the real world. There are a few different effect sizes one can use: eta squared, and omega squared. Omega squared is considered a better measure of effect size than eta squared because it is unbiased in it’s calculation.\n",
    "\n",
    "The effect size does not replace the results of a statistical hypothesis test. Instead, the effect size complements the test. Ideally, the results of both the hypothesis test and the effect size calculation would be presented side-by-side.\n",
    "\n",
    "Hypothesis Test: Quantify the likelihood of observing the data given an assumption (null hypothesis).\n",
    "Effect Size: Quantify the size of the effect assuming that the effect is present\n"
   ]
  },
  {
   "cell_type": "code",
   "execution_count": null,
   "metadata": {
    "id": "74RocegiUQt0",
    "outputId": "dd518096-7de2-4003-ba0f-f3239695ddb6"
   },
   "outputs": [
    {
     "data": {
      "text/html": [
       "<div>\n",
       "<style scoped>\n",
       "    .dataframe tbody tr th:only-of-type {\n",
       "        vertical-align: middle;\n",
       "    }\n",
       "\n",
       "    .dataframe tbody tr th {\n",
       "        vertical-align: top;\n",
       "    }\n",
       "\n",
       "    .dataframe thead th {\n",
       "        text-align: right;\n",
       "    }\n",
       "</style>\n",
       "<table border=\"1\" class=\"dataframe\">\n",
       "  <thead>\n",
       "    <tr style=\"text-align: right;\">\n",
       "      <th></th>\n",
       "      <th>sum_sq</th>\n",
       "      <th>df</th>\n",
       "      <th>mean_sq</th>\n",
       "      <th>F</th>\n",
       "      <th>PR(&gt;F)</th>\n",
       "      <th>eta_sq</th>\n",
       "      <th>omega_sq</th>\n",
       "    </tr>\n",
       "  </thead>\n",
       "  <tbody>\n",
       "    <tr>\n",
       "      <td>Drug</td>\n",
       "      <td>3010.95</td>\n",
       "      <td>3.0</td>\n",
       "      <td>1003.650</td>\n",
       "      <td>17.49281</td>\n",
       "      <td>0.000026</td>\n",
       "      <td>0.76635</td>\n",
       "      <td>0.712141</td>\n",
       "    </tr>\n",
       "    <tr>\n",
       "      <td>Residual</td>\n",
       "      <td>918.00</td>\n",
       "      <td>16.0</td>\n",
       "      <td>57.375</td>\n",
       "      <td>NaN</td>\n",
       "      <td>NaN</td>\n",
       "      <td>NaN</td>\n",
       "      <td>NaN</td>\n",
       "    </tr>\n",
       "  </tbody>\n",
       "</table>\n",
       "</div>"
      ],
      "text/plain": [
       "           sum_sq    df   mean_sq         F    PR(>F)   eta_sq  omega_sq\n",
       "Drug      3010.95   3.0  1003.650  17.49281  0.000026  0.76635  0.712141\n",
       "Residual   918.00  16.0    57.375       NaN       NaN      NaN       NaN"
      ]
     },
     "execution_count": 8,
     "metadata": {
      "tags": []
     },
     "output_type": "execute_result"
    }
   ],
   "source": [
    "def anova_table(aov):\n",
    "    aov['mean_sq'] = aov[:]['sum_sq']/aov[:]['df']\n",
    "    \n",
    "    aov['eta_sq'] = aov[:-1]['sum_sq']/sum(aov['sum_sq'])\n",
    "    \n",
    "    aov['omega_sq'] = (aov[:-1]['sum_sq']-(aov[:-1]['df']*aov['mean_sq'][-1]))/(sum(aov['sum_sq'])+aov['mean_sq'][-1])\n",
    "    \n",
    "    cols = ['sum_sq', 'df', 'mean_sq', 'F', 'PR(>F)', 'eta_sq', 'omega_sq']\n",
    "    aov = aov[cols]\n",
    "    return aov\n",
    "\n",
    "anova_table(table)"
   ]
  },
  {
   "cell_type": "markdown",
   "metadata": {
    "id": "IQq6qQfCUQt2"
   },
   "source": [
    "That means the current model accounts for 70-76% of the variance in contributing to drug. Like just mentioned, within the ANOVA framework, R2 is also called eta squared, and can be interpreted as the amount of explained variance, as well as an effect size measure."
   ]
  },
  {
   "cell_type": "markdown",
   "metadata": {
    "id": "3CElddLwUQt2"
   },
   "source": [
    "## Other Types of ANOVAs\n",
    "\n",
    "\n",
    "Repeated Measures ANOVA and 1 and 2 ways:\n"
   ]
  },
  {
   "cell_type": "code",
   "execution_count": null,
   "metadata": {
    "colab": {
     "base_uri": "https://localhost:8080/",
     "height": 136
    },
    "id": "o_RB9hSQUQt3",
    "outputId": "f1d4071b-7ac6-4eea-b4ba-f16d825c717d"
   },
   "outputs": [
    {
     "name": "stdout",
     "output_type": "stream",
     "text": [
      "               Anova\n",
      "===================================\n",
      "     F Value  Num DF  Den DF Pr > F\n",
      "-----------------------------------\n",
      "cond 499.1549 1.0000 59.0000 0.0000\n",
      "===================================\n",
      "\n"
     ]
    }
   ],
   "source": [
    "import pandas as pd\n",
    "from statsmodels.stats.anova import AnovaRM\n",
    "\n",
    "df = pd.read_csv('https://raw.githubusercontent.com/BlohmLab/NSCI801-QuantNeuro/master/Figures/rmAOV1way.csv')\n",
    "\n",
    "aovrm = AnovaRM(df, 'rt', 'Sub_id', within=['cond'])\n",
    "res = aovrm.fit()\n",
    "print(res.summary())"
   ]
  },
  {
   "cell_type": "code",
   "execution_count": null,
   "metadata": {
    "colab": {
     "base_uri": "https://localhost:8080/",
     "height": 170
    },
    "id": "ozU8tgvfUQt4",
    "outputId": "090d5041-cf13-4546-af2e-a05c6035fbcb"
   },
   "outputs": [
    {
     "name": "stdout",
     "output_type": "stream",
     "text": [
      "                 Anova\n",
      "========================================\n",
      "         F Value  Num DF  Den DF  Pr > F\n",
      "----------------------------------------\n",
      "iv1     2207.0162 1.0000  59.0000 0.0000\n",
      "iv2      275.4144 2.0000 118.0000 0.0000\n",
      "iv1:iv2    1.8651 2.0000 118.0000 0.1594\n",
      "========================================\n",
      "\n"
     ]
    }
   ],
   "source": [
    "df2way = pd.read_csv('https://raw.githubusercontent.com/BlohmLab/NSCI801-QuantNeuro/master/Figures/rmAOV2way.csv')\n",
    "aovrm2way = AnovaRM(df2way, 'rt', 'Sub_id', within=['iv1', 'iv2'])\n",
    "res2way = aovrm2way.fit()\n",
    "\n",
    "print(res2way)"
   ]
  },
  {
   "cell_type": "markdown",
   "metadata": {
    "id": "jk2Kx0JbUQt5"
   },
   "source": [
    "## Factorial Design ANOVA\n",
    "\n",
    "Factor A x Factor B interactions:\n",
    "\n",
    "H0 : there is not interaction\n",
    "Ha : there is an interaction\n",
    "\n",
    "Main effect of factor A:\n",
    "\n",
    "H0 : ?1 = ?2\n",
    "Ha : Not all of the means (?) are equal\n",
    "\n",
    "Main effect of factor B:\n",
    "\n",
    "H0 : ?1 = ?2\n",
    "Ha : Not all of the means (?) are equal\n",
    "\n"
   ]
  },
  {
   "cell_type": "markdown",
   "metadata": {
    "id": "LBIttRHYUQt6"
   },
   "source": [
    "I know what you are thinking about this stuff: This is confusing....but we will walk through it!\n",
    "\n",
    "\n",
    "\n",
    "This data is fictional; a study was conducted to test the effect of 2 new fertilizers, and the amount of water on the mean crop yield. "
   ]
  },
  {
   "cell_type": "markdown",
   "metadata": {
    "id": "Ju-CeQj6UQt6"
   },
   "source": [
    "### An Example:"
   ]
  },
  {
   "cell_type": "code",
   "execution_count": null,
   "metadata": {
    "id": "Fs3LVAm5UQt7"
   },
   "outputs": [],
   "source": [
    "import pandas\n",
    "import researchpy as rp\n",
    "import seaborn as sns\n",
    "\n",
    "import statsmodels.api as sm\n",
    "from statsmodels.formula.api import ols\n",
    "import statsmodels.stats.multicomp\n",
    "\n",
    "\n",
    "\n",
    "df = pandas.read_csv(\"https://raw.githubusercontent.com/Opensourcefordatascience/Data-sets/master/crop_yield.csv\")"
   ]
  },
  {
   "cell_type": "code",
   "execution_count": null,
   "metadata": {
    "id": "proTfLcYUQt8"
   },
   "outputs": [],
   "source": [
    "rp.summary_cont(df['Yield'])"
   ]
  },
  {
   "cell_type": "code",
   "execution_count": null,
   "metadata": {
    "id": "oWSjhrWSUQt9"
   },
   "outputs": [],
   "source": [
    "rp.summary_cont(df.groupby(['Fert']))['Yield']"
   ]
  },
  {
   "cell_type": "code",
   "execution_count": null,
   "metadata": {
    "id": "WRPbjGobUQt-"
   },
   "outputs": [],
   "source": [
    "rp.summary_cont(df.groupby(['Fert', 'Water']))['Yield']"
   ]
  },
  {
   "cell_type": "code",
   "execution_count": null,
   "metadata": {
    "id": "bLDfLAajUQt_"
   },
   "outputs": [],
   "source": [
    "    # Fits the model with the interaction term\n",
    "    # This will also automatically include the main effects for each factor\n",
    "    model = ols('Yield ~ C(Fert)*C(Water)', df).fit()\n",
    "\n",
    "    # Seeing if the overall model is significant\n",
    "    print(f\"Overall model F({model.df_model: .0f},{model.df_resid: .0f}) = {model.fvalue: .3f}, p = {model.f_pvalue: .4f}\")"
   ]
  },
  {
   "cell_type": "code",
   "execution_count": null,
   "metadata": {
    "id": "L-82MDbfUQuA"
   },
   "outputs": [],
   "source": [
    "model.summary()"
   ]
  },
  {
   "cell_type": "code",
   "execution_count": null,
   "metadata": {
    "id": "dmyT4hKqUQuB"
   },
   "outputs": [],
   "source": [
    "# Creates the ANOVA table\n",
    "res = sm.stats.anova_lm(model, typ= 2)\n",
    "res"
   ]
  },
  {
   "cell_type": "markdown",
   "metadata": {
    "id": "M5No_79xUQuC"
   },
   "source": [
    "The interaction term is not significant. This indicates that there is no interaction effect between the type of fertilizer and the amount of water on the mean crop yield. Since this is not significant, the interaction term is to be removed from the model and it needs to be re-ran so we can look at the main effects of each factor independently."
   ]
  },
  {
   "cell_type": "code",
   "execution_count": null,
   "metadata": {
    "id": "tXKOakJ-UQuC"
   },
   "outputs": [],
   "source": [
    "# Fits the model\n",
    "model2 = ols('Yield ~ C(Fert)+ C(Water)', df).fit()\n",
    "\n",
    "print(f\"Overall model F({model2.df_model: .0f},{model2.df_resid: .0f}) = {model2.fvalue: .3f}, p = {model2.f_pvalue: .4f}\")"
   ]
  },
  {
   "cell_type": "code",
   "execution_count": null,
   "metadata": {
    "id": "SOWSUgFbUQuD"
   },
   "outputs": [],
   "source": [
    "model2.summary()"
   ]
  },
  {
   "cell_type": "markdown",
   "metadata": {
    "id": "f1ExC_OUUQuE"
   },
   "source": [
    "# Multiple Regression"
   ]
  },
  {
   "cell_type": "markdown",
   "metadata": {
    "slideshow": {
     "slide_type": "notes"
    }
   },
   "source": [
    "https://en.wikipedia.org/wiki/Regression_analysis#General_linear_model"
   ]
  },
  {
   "cell_type": "markdown",
   "metadata": {
    "id": "AnJJO69AUQuE"
   },
   "source": [
    "Multiple Linear Regression attempts to model the Relationship between two or more features and a response by fitting a linear equation to observed data. The steps to perform multiple linear Regression are almost similar to that of simple linear Regression. The Difference Lies in the Evalution. We can use it to find out which factor has the highest impact on the predicted output and now different variable relate to each other."
   ]
  },
  {
   "cell_type": "markdown",
   "metadata": {
    "id": "KqrM7sc0UQuF"
   },
   "source": [
    "Here : Y= b0 + b1*x1 + b2*x2 + b3*x3 +…… bn*xn \n",
    "\n",
    "Y = Dependent variable and x1, x2, x3, …… xn = multiple independent variables"
   ]
  },
  {
   "cell_type": "markdown",
   "metadata": {
    "id": "GbYQhwCHUQuF"
   },
   "source": [
    "Assumption of Regression Model :\n",
    "\n",
    "Linearity: The relationship between dependent and independent variables should be linear.\n",
    "\n",
    "Homoscedasticity: Constant variance of the errors should be maintained.\n",
    "\n",
    "Multivariate normality: Multiple Regression assumes that the residuals are normally distributed.\n",
    "\n",
    "Lack of Multicollinearity: It is assumed that there is little or no multicollinearity in the data.\n"
   ]
  },
  {
   "cell_type": "code",
   "execution_count": null,
   "metadata": {
    "colab": {
     "base_uri": "https://localhost:8080/",
     "height": 204
    },
    "id": "IoRldKGCUQuF",
    "outputId": "f9b26769-f854-4e91-f2ec-1393b71256a7"
   },
   "outputs": [
    {
     "data": {
      "text/html": [
       "<div>\n",
       "<style scoped>\n",
       "    .dataframe tbody tr th:only-of-type {\n",
       "        vertical-align: middle;\n",
       "    }\n",
       "\n",
       "    .dataframe tbody tr th {\n",
       "        vertical-align: top;\n",
       "    }\n",
       "\n",
       "    .dataframe thead th {\n",
       "        text-align: right;\n",
       "    }\n",
       "</style>\n",
       "<table border=\"1\" class=\"dataframe\">\n",
       "  <thead>\n",
       "    <tr style=\"text-align: right;\">\n",
       "      <th></th>\n",
       "      <th>deneyim</th>\n",
       "      <th>maas</th>\n",
       "      <th>yas</th>\n",
       "    </tr>\n",
       "  </thead>\n",
       "  <tbody>\n",
       "    <tr>\n",
       "      <th>0</th>\n",
       "      <td>0.5</td>\n",
       "      <td>2500</td>\n",
       "      <td>22</td>\n",
       "    </tr>\n",
       "    <tr>\n",
       "      <th>1</th>\n",
       "      <td>0.0</td>\n",
       "      <td>2250</td>\n",
       "      <td>21</td>\n",
       "    </tr>\n",
       "    <tr>\n",
       "      <th>2</th>\n",
       "      <td>1.0</td>\n",
       "      <td>2750</td>\n",
       "      <td>23</td>\n",
       "    </tr>\n",
       "    <tr>\n",
       "      <th>3</th>\n",
       "      <td>5.0</td>\n",
       "      <td>8000</td>\n",
       "      <td>25</td>\n",
       "    </tr>\n",
       "    <tr>\n",
       "      <th>4</th>\n",
       "      <td>8.0</td>\n",
       "      <td>9000</td>\n",
       "      <td>28</td>\n",
       "    </tr>\n",
       "  </tbody>\n",
       "</table>\n",
       "</div>"
      ],
      "text/plain": [
       "   deneyim  maas  yas\n",
       "0      0.5  2500   22\n",
       "1      0.0  2250   21\n",
       "2      1.0  2750   23\n",
       "3      5.0  8000   25\n",
       "4      8.0  9000   28"
      ]
     },
     "execution_count": 7,
     "metadata": {
      "tags": []
     },
     "output_type": "execute_result"
    }
   ],
   "source": [
    "import pandas as pd\n",
    "\n",
    "# Read the csv file.\n",
    "df=pd.read_csv('https://raw.githubusercontent.com/BlohmLab/NSCI801-QuantNeuro/master/Figures/multiple-linear-regression-dataset.csv')\n",
    "\n",
    "# Print the first 5 rows of the data set.\n",
    "df.head()"
   ]
  },
  {
   "cell_type": "code",
   "execution_count": null,
   "metadata": {
    "id": "EeE3pzQjUQuG"
   },
   "outputs": [],
   "source": [
    "from sklearn.linear_model import LinearRegression\n",
    "\n",
    "# Create linear regression object.\n",
    "mlr= LinearRegression()\n",
    "\n",
    "# Fit linear regression.\n",
    "mlr.fit(df[['deneyim','maas']], df['yas'])\n"
   ]
  },
  {
   "cell_type": "code",
   "execution_count": null,
   "metadata": {
    "id": "rFyb7bW0UQuH"
   },
   "outputs": [],
   "source": [
    "print(mlr.intercept_)\n",
    "\n",
    "print(mlr.coef_)\n",
    "\n"
   ]
  },
  {
   "cell_type": "markdown",
   "metadata": {
    "id": "gkJt6ao6UQuI"
   },
   "source": [
    "Multiple linear regression uses a linear function to predict the value of a dependent variable containing the function n independent variables.\n",
    "\n"
   ]
  },
  {
   "cell_type": "markdown",
   "metadata": {
    "id": "ZfSohSFiUQuI"
   },
   "source": [
    "## Non-Parametric Tests"
   ]
  },
  {
   "cell_type": "markdown",
   "metadata": {
    "slideshow": {
     "slide_type": "notes"
    }
   },
   "source": [
    "https://en.wikipedia.org/wiki/Nonparametric_statistics"
   ]
  },
  {
   "cell_type": "markdown",
   "metadata": {
    "id": "b_8_aFcBUQuI"
   },
   "source": [
    "Not all Data is normally disritbuted, or even conforms to the simple assumptions we've made!\n",
    "\n",
    "\n",
    "So how do we overcome this - we need statistical tests to help us test things EVEN if those assumptions aren't met"
   ]
  },
  {
   "cell_type": "markdown",
   "metadata": {
    "id": "Hrx7ArsqUQuI"
   },
   "source": [
    "Althought there are MANY non-parametric tests: the three main ones I will go over include:\n",
    "\n",
    "\n",
    "The Mann-Whitney U test for comparing independent data samples: the nonparametric version of the Student t-test.\n",
    "\n",
    "The Wilcoxon signed-rank test for comparing paired data samples: the nonparametric version of the paired Student t-test.\n",
    "\n",
    "The Kruskal-Wallis H and Friedman tests for comparing more than two data samples: the nonparametric version of the ANOVA and repeated measures ANOVA tests."
   ]
  },
  {
   "cell_type": "markdown",
   "metadata": {
    "id": "KlTWDredUQuJ"
   },
   "source": [
    "Often, they refer to statistical methods that do not assume a Gaussian distribution. They were developed for use with ordinal or interval data, but in practice can also be used with a ranking of real-valued observations in a data sample rather than on the observation values themselves.\n",
    "\n",
    "A common question about two or more datasets is whether they are different. Specifically, whether the difference between their central tendency (e.g. mean or median) is statistically significant.\n",
    "\n",
    "\n",
    "\n",
    "p <= alpha: reject H0, different distribution.\n",
    "\n",
    "p > alpha: fail to reject H0, same distribution."
   ]
  },
  {
   "cell_type": "markdown",
   "metadata": {
    "id": "6ws7J9pkUQuJ"
   },
   "source": [
    "## Mann-Whitney Test\n",
    "\n",
    "\n",
    "The Mann-Whitney U test is a nonparametric statistical significance test for determining whether two independent samples were drawn from a population with the same distribution.\n",
    "\n",
    "The test was named for Henry Mann and Donald Whitney, although it is sometimes called the Wilcoxon-Mann-Whitney test, also named for Frank Wilcoxon, who also developed a variation of the test.\n",
    "\n",
    "The two samples are combined and rank ordered together. The strategy is to determine if the values from the two samples are randomly mixed in the rank ordering or if they are clustered at opposite ends when combined. A random rank order would mean that the two samples are not different, while a cluster of one sample values would indicate a difference between them"
   ]
  },
  {
   "cell_type": "code",
   "execution_count": null,
   "metadata": {
    "id": "wBcGL3rhUQuJ"
   },
   "outputs": [],
   "source": [
    "# generate gaussian data samples\n",
    "from numpy.random import seed\n",
    "from numpy.random import randn\n",
    "from numpy import mean\n",
    "from numpy import std\n",
    "# seed the random number generator\n",
    "seed(1)\n",
    "# generate two sets of univariate observations\n",
    "data1 = 5 * randn(100) + 50\n",
    "data2 = 5 * randn(100) + 51\n",
    "# summarize\n",
    "print('data1: mean=%.3f stdv=%.3f' % (mean(data1), std(data1)))\n",
    "print('data2: mean=%.3f stdv=%.3f' % (mean(data2), std(data2)))"
   ]
  },
  {
   "cell_type": "markdown",
   "metadata": {
    "id": "8EyMZhUnUQuK"
   },
   "source": [
    "## Wilcoxon Signed-Rank Test\n",
    "\n",
    "In some cases, the data samples may be paired.\n",
    "\n",
    "There are many reasons why this may be the case, for example, the samples are related or matched in some way or represent two measurements of the same technique. More specifically, each sample is independent, but comes from the same population.\n",
    "\n",
    "Examples of paired samples in machine learning might be the same algorithm evaluated on different datasets or different algorithms evaluated on exactly the same training and test data.\n",
    "\n",
    "The samples are not independent, therefore the Mann-Whitney U test cannot be used. Instead, the Wilcoxon signed-rank test is used, also called the Wilcoxon T test, named for Frank Wilcoxon. It is the equivalent of the paired Student T-test, but for ranked data instead of real valued data with a Gaussian distribution.\n",
    "\n",
    "The Wilcoxon signed ranks test is a nonparametric statistical procedure for comparing two samples that are paired, or related. The parametric equivalent to the Wilcoxon signed ranks test goes by names such as the Student’s t-test, t-test for matched pairs, t-test for paired samples, or t-test for dependent samples."
   ]
  },
  {
   "cell_type": "code",
   "execution_count": null,
   "metadata": {
    "id": "GZ04HFaSUQuK"
   },
   "outputs": [],
   "source": [
    "# Wilcoxon signed-rank test\n",
    "from numpy.random import seed\n",
    "from numpy.random import randn\n",
    "from scipy.stats import wilcoxon\n",
    "# seed the random number generator\n",
    "seed(1)\n",
    "# generate two independent samples\n",
    "data1 = 5 * randn(100) + 50\n",
    "data2 = 5 * randn(100) + 51\n",
    "# compare samples\n",
    "stat, p = wilcoxon(data1, data2)\n",
    "print('Statistics=%.3f, p=%.3f' % (stat, p))\n",
    "# interpret\n",
    "alpha = 0.05\n",
    "if p > alpha:\n",
    "\tprint('Same distribution (fail to reject H0)')\n",
    "else:\n",
    "\tprint('Different distribution (reject H0)')"
   ]
  },
  {
   "cell_type": "markdown",
   "metadata": {
    "id": "D5DJny8wUQuL"
   },
   "source": [
    "## Kruskal-Wallis H Test\n",
    "\n",
    "When working with significance tests, such as Mann-Whitney U and the Wilcoxon signed-rank tests, comparisons between data samples must be performed pair-wise.\n",
    "\n",
    "This can be inefficient if you have many data samples and you are only interested in whether two or more samples have a different distribution.\n",
    "\n",
    "The Kruskal-Wallis test is a nonparametric version of the one-way analysis of variance test or ANOVA for short. It is named for the developers of the method, William Kruskal and Wilson Wallis. This test can be used to determine whether more than two independent samples have a different distribution. It can be thought of as the generalization of the Mann-Whitney U test.\n",
    "\n",
    "The default assumption or the null hypothesis is that all data samples were drawn from the same distribution. Specifically, that the population medians of all groups are equal. A rejection of the null hypothesis indicates that there is enough evidence to suggest that one or more samples dominate another sample, but the test does not indicate which samples or by how much.\n",
    "\n",
    "When the Kruskal-Wallis H-test leads to significant results, then at least one of the samples is different from the other samples. However, the test does not identify where the difference(s) occur. Moreover, it does not identify how many differences occur. To identify the particular differences between sample pairs, a researcher might use sample contrasts, or post hoc tests, to analyze the specific sample pairs for significant difference(s). The Mann-Whitney U-test is a useful method for performing sample contrasts between individual sample sets."
   ]
  },
  {
   "cell_type": "code",
   "execution_count": null,
   "metadata": {
    "id": "VIIdGGdwUQuL"
   },
   "outputs": [],
   "source": [
    "\n",
    "# generate three independent samples\n",
    "data1 = 5 * randn(100) + 50\n",
    "data2 = 5 * randn(100) + 50\n",
    "data3 = 5 * randn(100) + 52\n",
    "\n",
    "# Kruskal-Wallis H-test\n",
    "from numpy.random import seed\n",
    "from numpy.random import randn\n",
    "from scipy.stats import kruskal\n",
    "# seed the random number generator\n",
    "seed(1)\n",
    "# generate three independent samples\n",
    "data1 = 5 * randn(100) + 50\n",
    "data2 = 5 * randn(100) + 50\n",
    "data3 = 5 * randn(100) + 52\n",
    "# compare samples\n",
    "stat, p = kruskal(data1, data2, data3)\n",
    "print('Statistics=%.3f, p=%.3f' % (stat, p))\n",
    "# interpret\n",
    "alpha = 0.05\n",
    "if p > alpha:\n",
    "\tprint('Same distributions (fail to reject H0)')\n",
    "else:\n",
    "\tprint('Different distributions (reject H0)')"
   ]
  },
  {
   "cell_type": "markdown",
   "metadata": {
    "id": "OtcXpYDoUQuM"
   },
   "source": [
    "## Friedman Test\n",
    "\n",
    "As in the previous example, we may have more than two different samples and an interest in whether all samples have the same distribution or not.\n",
    "\n",
    "If the samples are paired in some way, such as repeated measures, then the Kruskal-Wallis H test would not be appropriate. Instead, the Friedman test can be used, named for Milton Friedman.\n",
    "\n",
    "The Friedman test is the nonparametric version of the repeated measures analysis of variance test, or repeated measures ANOVA. The test can be thought of as a generalization of the Kruskal-Wallis H Test to more than two samples.\n",
    "\n",
    "The default assumption, or null hypothesis, is that the multiple paired samples have the same distribution. A rejection of the null hypothesis indicates that one or more of the paired samples has a different distribution.\n",
    "\n",
    "Fail to Reject H0: Paired sample distributions are equal.\n",
    "Reject H0: Paired sample distributions are not equal.\n",
    "The test assumes two or more paired data samples with 10 or more samples per group.\n",
    "\n",
    "The Friedman test is a nonparametric statistical procedure for comparing more than two samples that are related. The parametric equivalent to this test is the repeated measures analysis of variance (ANOVA). When the Friedman test leads to significant results, at least one of the samples is different from the other samples."
   ]
  },
  {
   "cell_type": "code",
   "execution_count": null,
   "metadata": {
    "id": "LWKiA7J7UQuM"
   },
   "outputs": [],
   "source": [
    "# Friedman test\n",
    "from numpy.random import seed\n",
    "from numpy.random import randn\n",
    "from scipy.stats import friedmanchisquare\n",
    "# seed the random number generator\n",
    "seed(1)\n",
    "# generate three independent samples\n",
    "data1 = 5 * randn(100) + 50\n",
    "data2 = 5 * randn(100) + 50\n",
    "data3 = 5 * randn(100) + 52\n",
    "# compare samples\n",
    "stat, p = friedmanchisquare(data1, data2, data3)\n",
    "print('Statistics=%.3f, p=%.3f' % (stat, p))\n",
    "# interpret\n",
    "alpha = 0.05\n",
    "if p > alpha:\n",
    "\tprint('Same distributions (fail to reject H0)')\n",
    "else:\n",
    "\tprint('Different distributions (reject H0)')"
   ]
  },
  {
   "cell_type": "code",
   "execution_count": null,
   "metadata": {
    "id": "O2AulrE6UQuN"
   },
   "outputs": [],
   "source": []
  }
 ],
 "metadata": {
  "celltoolbar": "Slideshow",
  "colab": {
   "name": "NSCI801_ANOVAs_FINAL.ipynb",
   "provenance": []
  },
  "kernelspec": {
   "display_name": "Python 3 (ipykernel)",
   "language": "python",
   "name": "python3"
  },
  "language_info": {
   "codemirror_mode": {
    "name": "ipython",
    "version": 3
   },
   "file_extension": ".py",
   "mimetype": "text/x-python",
   "name": "python",
   "nbconvert_exporter": "python",
   "pygments_lexer": "ipython3",
   "version": "3.9.7"
  }
 },
 "nbformat": 4,
 "nbformat_minor": 1
}
