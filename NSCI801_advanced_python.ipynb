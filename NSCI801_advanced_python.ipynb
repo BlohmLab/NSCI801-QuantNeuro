{
  "nbformat": 4,
  "nbformat_minor": 0,
  "metadata": {
    "celltoolbar": "Slideshow",
    "kernelspec": {
      "display_name": "Python 3",
      "language": "python",
      "name": "python3"
    },
    "language_info": {
      "codemirror_mode": {
        "name": "ipython",
        "version": 3
      },
      "file_extension": ".py",
      "mimetype": "text/x-python",
      "name": "python",
      "nbconvert_exporter": "python",
      "pygments_lexer": "ipython3",
      "version": "3.7.3"
    },
    "colab": {
      "name": "Copy of NSCI801_advanced_python.ipynb",
      "provenance": []
    }
  },
  "cells": [
    {
      "cell_type": "markdown",
      "metadata": {
        "id": "vNMxjuD-0MXL",
        "colab_type": "text"
      },
      "source": [
        "# Quick Review"
      ]
    },
    {
      "cell_type": "code",
      "metadata": {
        "id": "vhdr-jfi0MXM",
        "colab_type": "code",
        "colab": {}
      },
      "source": [
        "# pip install pandas\n",
        "import os\n",
        "import pandas as pd\n",
        "import numpy as np\n",
        "\n",
        "# LISTS\n",
        "A = ['yep', 0 ,True,3]\n",
        "A_1 = [0,1,2,3,4]\n",
        "\n",
        "print('Lists comprise any data type A = ')\n",
        "print(A)\n",
        "\n",
        "#indexing A ########## NOT LIKE MATLAB indexing starts at 0\n",
        "print('the first element in A')\n",
        "print(A[0])\n",
        "\n",
        "#checking the length of a list: ### function len\n",
        "print('The length of A')\n",
        "print(len(A))\n",
        "\n",
        "# get the mean of a list (IF IT HAS NUMBERS)\n",
        "print('Mean of A_1')\n",
        "print(np.mean(A_1))\n",
        "#print(np.mean(A))\n",
        "\n",
        "\n"
      ],
      "execution_count": 0,
      "outputs": []
    },
    {
      "cell_type": "code",
      "metadata": {
        "id": "E30ciIii0MXP",
        "colab_type": "code",
        "colab": {}
      },
      "source": [
        "\n",
        "#numpy arrays\n",
        "B = np.array([[2,3,1,0],[ 0,1,2,3]])\n",
        "print('Numpy array B = ')\n",
        "print(B)\n",
        "\n",
        "#indexing B ########## NOT LIKE MATLAB \n",
        "print('The first position in the array:')\n",
        "print(B[0])\n",
        "\n",
        "#checking the shape of a numpy array/matrix: ### function shape\n",
        "print('The shape of B')\n",
        "print(B.shape)\n",
        "\n",
        "# get the mean of a array\n",
        "print('The mean of B along axis 0')\n",
        "print(np.mean(B,axis=0))\n",
        "print('The mean of B along axis 1')\n",
        "print(np.mean(B,axis=1))\n",
        "\n",
        "\n"
      ],
      "execution_count": 0,
      "outputs": []
    },
    {
      "cell_type": "code",
      "metadata": {
        "scrolled": true,
        "id": "p8bfJ0Q70MXQ",
        "colab_type": "code",
        "colab": {}
      },
      "source": [
        "\n",
        "path_2_data = '/Users/joe/Desktop/rois.csv'\n",
        "\n",
        "data = pd.read_csv(path_2_data)\n",
        "## see inside dataFrame\n",
        "print(data)\n",
        "\n",
        "## Get values\n",
        "print('Get data values')\n",
        "print(data.values)\n",
        "\n",
        "## Get headers\n",
        "print('Get header values')\n",
        "print(data.columns.values)\n",
        "\n",
        "\n"
      ],
      "execution_count": 0,
      "outputs": []
    },
    {
      "cell_type": "code",
      "metadata": {
        "id": "yO3zAkbS0MXS",
        "colab_type": "code",
        "colab": {}
      },
      "source": [
        "#construct data values\n",
        "data_values = data.values\n",
        "\n",
        "#get data for plotting\n",
        "x_values = data_values[:,0]\n",
        "y_values = data_values[:,1]\n",
        "\n"
      ],
      "execution_count": 0,
      "outputs": []
    },
    {
      "cell_type": "code",
      "metadata": {
        "id": "04VUXxuL0MXT",
        "colab_type": "code",
        "colab": {}
      },
      "source": [
        "#import relevant packages\n",
        "import matplotlib.pyplot as plt\n",
        "fig, ax = plt.subplots()\n",
        "ax.plot(x_values,y_values,'g')\n",
        "ax.set_xlabel('Volumes')\n",
        "ax.set_ylabel('au')\n",
        "plt.show()"
      ],
      "execution_count": 0,
      "outputs": []
    },
    {
      "cell_type": "code",
      "metadata": {
        "id": "9-d0Od8z0MXV",
        "colab_type": "code",
        "colab": {}
      },
      "source": [
        "import scipy.stats as ss\n",
        "\n",
        "fig, ax = plt.subplots()\n",
        "\n",
        "zscored_data = ss.zscore(data_values[:,1::],axis=0)\n",
        "correlation_co = np.corrcoef(zscored_data.transpose())\n",
        "\n",
        "ax.imshow(correlation_co)\n",
        "ax.set_xlabel('')\n",
        "ax.set_ylabel('')\n",
        "plt.show()"
      ],
      "execution_count": 0,
      "outputs": []
    },
    {
      "cell_type": "markdown",
      "metadata": {
        "id": "FhLn5WW50MXW",
        "colab_type": "text"
      },
      "source": [
        "# Loops"
      ]
    },
    {
      "cell_type": "markdown",
      "metadata": {
        "id": "DrUaNXI10MXX",
        "colab_type": "raw"
      },
      "source": [
        "Loops the simplest examples:\n",
        "\n",
        "For loops are for iterating through “elements”. Most of the time these “elements” will be in well-known data types: lists, strings or dictionaries. Sometimes they can also be range() objects.\n",
        "\n",
        "Let’s take the simplest example first: a list!"
      ]
    },
    {
      "cell_type": "code",
      "metadata": {
        "id": "Sw1F6sAF0MXX",
        "colab_type": "code",
        "colab": {}
      },
      "source": [
        "\n",
        "thislist = [\"apple\", \"banana\", \"cherry\", \"peach\", \"orange\"]"
      ],
      "execution_count": 0,
      "outputs": []
    },
    {
      "cell_type": "markdown",
      "metadata": {
        "id": "WgTtEIpy0MXZ",
        "colab_type": "raw"
      },
      "source": [
        "Once it’s created, we can go through the elements and print them one by one – by using this very basic for loop:"
      ]
    },
    {
      "cell_type": "code",
      "metadata": {
        "id": "jeslUjN20MXZ",
        "colab_type": "code",
        "colab": {}
      },
      "source": [
        "for i in thislist:\n",
        "    print(i)"
      ],
      "execution_count": 0,
      "outputs": []
    },
    {
      "cell_type": "markdown",
      "metadata": {
        "id": "SsKjqw3r0MXa",
        "colab_type": "raw"
      },
      "source": [
        "Wonderful!\n",
        "But how does this actually become useful? Take another example, a list of numbers:\n"
      ]
    },
    {
      "cell_type": "code",
      "metadata": {
        "id": "-gk0T7kY0MXa",
        "colab_type": "code",
        "colab": {}
      },
      "source": [
        "numbers = [10, 15, 21, 19, 102]"
      ],
      "execution_count": 0,
      "outputs": []
    },
    {
      "cell_type": "code",
      "metadata": {
        "id": "bJb_nIm50MXc",
        "colab_type": "code",
        "colab": {}
      },
      "source": [
        "for i in numbers:\n",
        "    print(i)"
      ],
      "execution_count": 0,
      "outputs": []
    },
    {
      "cell_type": "markdown",
      "metadata": {
        "id": "MKcfUCop0MXd",
        "colab_type": "raw"
      },
      "source": [
        "Say that we want to square each of the numbers in this list!\n",
        "\n",
        "Note: Unfortunately the numbers * numbers formula won’t work… I know, it might sound logical at first but when you will get more into Python, you will see that in fact, it is not logical at all.\n",
        "\n",
        "We have to do this:"
      ]
    },
    {
      "cell_type": "code",
      "metadata": {
        "id": "cpzfKDPO0MXd",
        "colab_type": "code",
        "colab": {}
      },
      "source": [
        "for i in numbers:\n",
        "    print(i * i)"
      ],
      "execution_count": 0,
      "outputs": []
    },
    {
      "cell_type": "markdown",
      "metadata": {
        "id": "26JKK5CV0MXe",
        "colab_type": "raw"
      },
      "source": [
        "What happened here step by step is:\n",
        "\n",
        "1 - We set a list (numbers) with five elements.\n",
        "2 - We took the first element (well actually, because of zero-based indexing, it’s the 0th element) of the list (1) and stored it into the i variable.\n",
        "3 - Then we executed the print(i * i) function, which returned the squared value of 1 which is also 1.\n",
        "4 - Then we started the whole process over…\n",
        "5 - We took the next element – we assigned it to the i variable.\n",
        "6 - We executed print(i * i) again and we got the squared value of the second element: 25.\n",
        "7 - And we continued this process until we got the last element’s squared value.\n"
      ]
    },
    {
      "cell_type": "markdown",
      "metadata": {
        "id": "sBLCzrs00MXe",
        "colab_type": "raw"
      },
      "source": [
        "What if we want to create a new list with the squares?????"
      ]
    },
    {
      "cell_type": "code",
      "metadata": {
        "id": "UY11FLVv0MXf",
        "colab_type": "code",
        "colab": {}
      },
      "source": [
        "New_numbers = []\n",
        "\n",
        "for i in numbers:\n",
        "    New_numbers.append(i*i) # APPEND for LISTS\n",
        "\n",
        "print(New_numbers)"
      ],
      "execution_count": 0,
      "outputs": []
    },
    {
      "cell_type": "markdown",
      "metadata": {
        "id": "w9I8xCbr0MXf",
        "colab_type": "text"
      },
      "source": [
        "# Iterating through strings"
      ]
    },
    {
      "cell_type": "markdown",
      "metadata": {
        "id": "p1hZQE4k0MXg",
        "colab_type": "raw"
      },
      "source": [
        "Okay, going forward!\n",
        "As I mentioned earlier, you can use other sequences than lists too. Let’s try a string:"
      ]
    },
    {
      "cell_type": "code",
      "metadata": {
        "id": "ceOezVke0MXg",
        "colab_type": "code",
        "colab": {}
      },
      "source": [
        "my_list = \"Hello World!\"\n",
        "for i in my_list:\n",
        "    print(i)"
      ],
      "execution_count": 0,
      "outputs": []
    },
    {
      "cell_type": "markdown",
      "metadata": {
        "id": "z-PHh22J0MXg",
        "colab_type": "raw"
      },
      "source": [
        "Remember, strings are basically handled as sequences of characters, thus the for loop will work with them pretty much as it did with lists.\n",
        "\n"
      ]
    },
    {
      "cell_type": "markdown",
      "metadata": {
        "id": "2bGDun-S0MXh",
        "colab_type": "text"
      },
      "source": [
        "# Iterating through range() objects"
      ]
    },
    {
      "cell_type": "code",
      "metadata": {
        "id": "OqxfBfyl0MXh",
        "colab_type": "code",
        "colab": {}
      },
      "source": [
        "my_list = range(0,10)\n",
        "for i in my_list:\n",
        "    print(i)"
      ],
      "execution_count": 0,
      "outputs": []
    },
    {
      "cell_type": "markdown",
      "metadata": {
        "id": "8anPu90A0MXi",
        "colab_type": "text"
      },
      "source": [
        "![Python-For-Loops-range-explanation-1024x435.png](https://github.com/BlohmLab/NSCI801-QuantNeuro/blob/master/Figures/Python-For-Loops-range-explanation-1024x435.png?raw=1)"
      ]
    },
    {
      "cell_type": "markdown",
      "metadata": {
        "id": "Fs1ojUJ00MXi",
        "colab_type": "text"
      },
      "source": [
        "# Iterating through interables using enumerate"
      ]
    },
    {
      "cell_type": "markdown",
      "metadata": {
        "id": "3AHB8sqL0MXi",
        "colab_type": "raw"
      },
      "source": [
        "Lets use our old list of numbers"
      ]
    },
    {
      "cell_type": "code",
      "metadata": {
        "id": "3qNFigga0MXj",
        "colab_type": "code",
        "colab": {}
      },
      "source": [
        "numbers = [10, 15, 21, 19, 102]\n",
        "\n",
        "for num,i in enumerate(numbers):\n",
        "    print(\"the location of the element \" +str(i)+\" is \" +str(num))"
      ],
      "execution_count": 0,
      "outputs": []
    },
    {
      "cell_type": "code",
      "metadata": {
        "id": "xLJ3G26r0MXj",
        "colab_type": "code",
        "colab": {}
      },
      "source": [
        "#Alternatively \n",
        "\n",
        "numbers = [10, 15, 21, 19, 102]\n",
        "numbers_length = len(numbers)\n",
        "for i in range(0,numbers_length):\n",
        "    print(i, numbers[i])"
      ],
      "execution_count": 0,
      "outputs": []
    },
    {
      "cell_type": "markdown",
      "metadata": {
        "id": "SZMvKvhD0MXk",
        "colab_type": "text"
      },
      "source": [
        "# Conditional statements"
      ]
    },
    {
      "cell_type": "markdown",
      "metadata": {
        "id": "F5UUykgh0MXk",
        "colab_type": "text"
      },
      "source": [
        "![1-Python-if-statement-logic-1024x499.png](https://github.com/BlohmLab/NSCI801-QuantNeuro/blob/master/Figures/1-Python-if-statement-logic-1024x499.png?raw=1)"
      ]
    },
    {
      "cell_type": "markdown",
      "metadata": {
        "id": "EsNoBb5b0MXk",
        "colab_type": "text"
      },
      "source": [
        "We have two values: a = 10 and b = 20. We compare these two values: a == b. This comparison has either a True or a False output. "
      ]
    },
    {
      "cell_type": "code",
      "metadata": {
        "id": "JRRDSeKT0MXk",
        "colab_type": "code",
        "colab": {}
      },
      "source": [
        "a = 10\n",
        "b = 20\n",
        "a == b"
      ],
      "execution_count": 0,
      "outputs": []
    },
    {
      "cell_type": "code",
      "metadata": {
        "id": "PuJ-hn520MXl",
        "colab_type": "code",
        "colab": {}
      },
      "source": [
        "a = 10\n",
        "b = 20\n",
        "not a == b"
      ],
      "execution_count": 0,
      "outputs": []
    },
    {
      "cell_type": "markdown",
      "metadata": {
        "id": "DV3-erDN0MXm",
        "colab_type": "text"
      },
      "source": [
        "We can go even further and set a condition: if a == b is True then we print 'yes'. If it’s False then we print 'no'. And that’s it, this is the logic of the Python if statements. "
      ]
    },
    {
      "cell_type": "code",
      "metadata": {
        "id": "aMreSd3x0MXm",
        "colab_type": "code",
        "colab": {}
      },
      "source": [
        "a = 10\n",
        "b = 20\n",
        "if a == b:\n",
        "    print('yes')\n",
        "else:\n",
        "    print('no')"
      ],
      "execution_count": 0,
      "outputs": []
    },
    {
      "cell_type": "markdown",
      "metadata": {
        "id": "zgkdhFYr0MXm",
        "colab_type": "text"
      },
      "source": [
        "Now that you understand the basics, it’s time to make your conditions more complex "
      ]
    },
    {
      "cell_type": "code",
      "metadata": {
        "id": "6YBOzj0j0MXm",
        "colab_type": "code",
        "colab": {}
      },
      "source": [
        "a = 10\n",
        "b = 20\n",
        "c = 30\n",
        "if (a + b) / c == 1 and c - b - a == 0:\n",
        "    print('yes')\n",
        "else:\n",
        "    print('no')"
      ],
      "execution_count": 0,
      "outputs": []
    },
    {
      "cell_type": "markdown",
      "metadata": {
        "id": "I-NEoFkM0MXn",
        "colab_type": "text"
      },
      "source": [
        "Lets add one more level of complexity"
      ]
    },
    {
      "cell_type": "markdown",
      "metadata": {
        "id": "hWcSRCWg0MXn",
        "colab_type": "text"
      },
      "source": [
        "![10-Python-if-statement-condition-sequence-logic-1024x473.png](https://github.com/BlohmLab/NSCI801-QuantNeuro/blob/master/Figures/10-Python-if-statement-condition-sequence-logic-1024x473.png?raw=1)"
      ]
    },
    {
      "cell_type": "code",
      "metadata": {
        "id": "0K0RbPff0MXn",
        "colab_type": "code",
        "colab": {}
      },
      "source": [
        "a = 10\n",
        "b = 11\n",
        "c = 10\n",
        "if a == b:\n",
        "    print('first condition is true')\n",
        "elif a == c:\n",
        "    print('second condition is true')\n",
        "else:\n",
        "    print('nothing is true. existence is pain.')"
      ],
      "execution_count": 0,
      "outputs": []
    },
    {
      "cell_type": "markdown",
      "metadata": {
        "id": "qP3GYZyH0MXo",
        "colab_type": "text"
      },
      "source": [
        "Now that you understand the basics, it’s time to make your conditions more complex \n",
        "\n"
      ]
    },
    {
      "cell_type": "markdown",
      "metadata": {
        "id": "PyRILSjg0MXo",
        "colab_type": "text"
      },
      "source": [
        "# Functions\n"
      ]
    },
    {
      "cell_type": "markdown",
      "metadata": {
        "id": "dmFWDeVC0MXo",
        "colab_type": "text"
      },
      "source": [
        "Functions are an essential part of the Python programming language: you might have already encountered and used some of the many fantastic functions that are built-in in the Python language or that come with its library ecosystem. However, as a Data Scientist, you’ll constantly need to write your own functions to solve problems that your data poses to you."
      ]
    },
    {
      "cell_type": "markdown",
      "metadata": {
        "id": "ZVA3rY-50MXo",
        "colab_type": "text"
      },
      "source": [
        "How To Define A Function: User-Defined Functions (UDFs)\n",
        "\n",
        "The four steps to defining a function in Python are the following:\n",
        "1 - Use the keyword def to declare the function and follow this up with the function name.\n",
        "\n",
        "2 - Add parameters to the function: they should be within the parentheses of the function. End your line with a colon.\n",
        "\n",
        "3 - Add statements that the functions should execute.\n",
        "\n",
        "4 - End your function with a return statement if the function should output something. Without the return statement, your function will return an object None."
      ]
    },
    {
      "cell_type": "code",
      "metadata": {
        "id": "M1u6Xj6H0MXo",
        "colab_type": "code",
        "colab": {}
      },
      "source": [
        "def hello():\n",
        "  print(\"Hello World\") \n",
        "  return "
      ],
      "execution_count": 0,
      "outputs": []
    },
    {
      "cell_type": "markdown",
      "metadata": {
        "id": "rDDPzYl10MXp",
        "colab_type": "text"
      },
      "source": [
        "Of course, your functions will get more complex as you go along: They often include loops, flow control, … and more to it to make it more complex."
      ]
    },
    {
      "cell_type": "code",
      "metadata": {
        "id": "R5GHSjah0MXp",
        "colab_type": "code",
        "outputId": "8f7490ff-ca75-4d74-fe5b-cd7e1c660bab",
        "colab": {}
      },
      "source": [
        "def hello():\n",
        "  name = str(input(\"Enter your name: \"))\n",
        "  if name:\n",
        "    print (\"Hello \" + str(name))\n",
        "  else:\n",
        "    print(\"Hello World\") \n",
        "  return \n",
        "\n",
        "hello()"
      ],
      "execution_count": 0,
      "outputs": [
        {
          "output_type": "stream",
          "text": [
            "Enter your name: hi\n",
            "Hello hi\n"
          ],
          "name": "stdout"
        }
      ]
    },
    {
      "cell_type": "markdown",
      "metadata": {
        "id": "5RAvNekZ0MXq",
        "colab_type": "text"
      },
      "source": [
        "The return Statement\n",
        "\n",
        "Note that as you’re printing something in your UDF hello(), you don’t really need to return it. There won’t be any difference between the function above and this one:"
      ]
    },
    {
      "cell_type": "markdown",
      "metadata": {
        "id": "T5lGXtt50MXq",
        "colab_type": "text"
      },
      "source": [
        "However, if you want to continue to work with the result of your function and try out some operations on it, you will need to use the return statement to actually return a value, such as a String, an integer, …. Consider the following scenario, where hello() returns a String \"hello\", while the function hello_noreturn() returns None:"
      ]
    },
    {
      "cell_type": "code",
      "metadata": {
        "id": "9qnfPJiL0MXq",
        "colab_type": "code",
        "colab": {}
      },
      "source": [
        "def hello():\n",
        "  print(\"Hello World\") \n",
        "  return(\"hello\")\n",
        "\n",
        "def hello_noreturn():\n",
        "  print(\"Hello World\")\n",
        "  "
      ],
      "execution_count": 0,
      "outputs": []
    },
    {
      "cell_type": "code",
      "metadata": {
        "id": "yLwb4Dag0MXs",
        "colab_type": "code",
        "colab": {}
      },
      "source": [
        "# Multiply the output of `hello()` with 2 \n",
        "hello() * 2"
      ],
      "execution_count": 0,
      "outputs": []
    },
    {
      "cell_type": "code",
      "metadata": {
        "id": "s6NHvTZ50MXt",
        "colab_type": "code",
        "colab": {}
      },
      "source": [
        "# (Try to) multiply the output of `hello_noreturn()` with 2 \n",
        "hello_noreturn() * 2"
      ],
      "execution_count": 0,
      "outputs": []
    },
    {
      "cell_type": "markdown",
      "metadata": {
        "id": "ZKyBIbFC0MXu",
        "colab_type": "text"
      },
      "source": [
        "The second function gives you an error because you can’t perform any operations with a None. You’ll get a TypeError that says that you can’t do the multiplication operation for NoneType (the None that is the result of hello_noreturn()) and int (2).\n"
      ]
    },
    {
      "cell_type": "markdown",
      "metadata": {
        "id": "kgGesYxY0MXu",
        "colab_type": "text"
      },
      "source": [
        "Tip functions immediately exit when they come across a return statement, even if it means that they won’t return any value."
      ]
    },
    {
      "cell_type": "code",
      "metadata": {
        "id": "lX_1Gsnn0MX2",
        "colab_type": "code",
        "colab": {}
      },
      "source": [
        "def run():\n",
        "  for x in range(10):\n",
        "     if x == 2:\n",
        "       return\n",
        "  print(\"Run!\")\n",
        "  \n",
        "run()"
      ],
      "execution_count": 0,
      "outputs": []
    },
    {
      "cell_type": "markdown",
      "metadata": {
        "id": "1bIWGViV0MX3",
        "colab_type": "text"
      },
      "source": [
        "Another thing that is worth mentioning when you’re working with the return statement is the fact that you can use it to return multiple values. To do this, you make use of tuples.\n",
        "Remember that this data structure is very similar to that of a list: it can contain multiple values. However, tuples are immutable, which means that you can’t modify any amounts that are stored in it! You construct it with the help of double parentheses (). You can unpack tuples into multiple variables with the help of the comma and the assignment operator."
      ]
    },
    {
      "cell_type": "code",
      "metadata": {
        "id": "JFFo-V2p0MX3",
        "colab_type": "code",
        "colab": {}
      },
      "source": [
        "# Define `plus()`\n",
        "def plus(a,b):\n",
        "  sum = a + b\n",
        "  return (sum, a)\n",
        "\n",
        "# Call `plus()` and unpack variables \n",
        "sum, a = plus(3,4)\n",
        "\n",
        "# Print `sum()`\n",
        "print(sum)"
      ],
      "execution_count": 0,
      "outputs": []
    },
    {
      "cell_type": "markdown",
      "metadata": {
        "id": "9fwKY3ni0MX3",
        "colab_type": "text"
      },
      "source": [
        "Function Arguments in Python\n",
        "\n",
        "Arguments are the things which are given to any function or method call, while the function or method code refers to the arguments by their parameter names. "
      ]
    },
    {
      "cell_type": "code",
      "metadata": {
        "id": "UScanUGr0MX4",
        "colab_type": "code",
        "colab": {}
      },
      "source": [
        "# Define `plus()` function\n",
        "def plus(a,b=2):\n",
        "  return a + b\n",
        "  \n",
        "# Call `plus()` with only `a` parameter\n",
        "plus(a=1)\n",
        "\n",
        "# Call `plus()` with `a` and `b` parameters\n",
        "plus(a=1, b=3)"
      ],
      "execution_count": 0,
      "outputs": []
    }
  ]
}