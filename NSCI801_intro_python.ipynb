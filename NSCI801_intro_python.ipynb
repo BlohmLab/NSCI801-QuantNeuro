{
  "nbformat": 4,
  "nbformat_minor": 0,
  "metadata": {
    "celltoolbar": "Slideshow",
    "kernelspec": {
      "display_name": "Python 3",
      "language": "python",
      "name": "python3"
    },
    "language_info": {
      "codemirror_mode": {
        "name": "ipython",
        "version": 3
      },
      "file_extension": ".py",
      "mimetype": "text/x-python",
      "name": "python",
      "nbconvert_exporter": "python",
      "pygments_lexer": "ipython3",
      "version": "3.6.7"
    },
    "colab": {
      "name": "Copy of NSCI_intro_python.ipynb",
      "provenance": []
    }
  },
  "cells": [
    {
      "cell_type": "markdown",
      "metadata": {
        "id": "3kfxmG_HHJtm"
      },
      "source": [
        "# Google COLAB and Python"
      ]
    },
    {
      "cell_type": "markdown",
      "metadata": {
        "id": "Vezb3HnXHJtn"
      },
      "source": [
        "A. Why Pyhton?\n",
        "\n",
        "Some Common Uses for Python in Research\n",
        "\n",
        "B. Understanding the python environment:\n",
        "\n",
        "Navigating the Python\n",
        "\n",
        "Understanding Toolbox Components\n",
        "\n",
        "Executing Commands\n",
        "\n",
        "Help and Documentation\n",
        "\n",
        "C. Using Python\n",
        "\n",
        "Lists, arrays, dataframes - and their apporpriate packages\n"
      ]
    },
    {
      "cell_type": "markdown",
      "metadata": {
        "id": "xVqgX4S8HJto"
      },
      "source": [
        "Why and What Python?\n"
      ]
    },
    {
      "cell_type": "markdown",
      "metadata": {
        "id": "s9aAy0NIHJtp"
      },
      "source": [
        "Python is an open source programming language that was made to be easy-to-read and powerful. A Dutch programmer named Guido van Rossum made Python in 1991. He named it after the television show Monty Python's Flying Circus. Many Python examples and tutorials include jokes from the show\n",
        "\n"
      ]
    },
    {
      "cell_type": "markdown",
      "metadata": {
        "id": "ybXfrQ1-HJtq"
      },
      "source": [
        "The Python programming language in particular has seen a surge in popularity across the sciences, for reasons which include its readability, modularity, and large standard library. The use of Python as a scientific programming language began to increase with the development of numerical libraries for optimized operations on large arrays in the late 1990s, in which an important development was the merging of the competing Numeric and Numarray packages in 2006 to form NumPy (Oliphant, 2007). As Python and NumPy have gained traction in a given scientific domain, we have seen the emergence of domain-specific ecosystems of open-source Python software developed by scientists. It became clear to us in 2007 that we were on the cusp of an emerging Python in neuroscience ecosystem, particularly in computational neuroscience and neuroimaging, but also in electrophysiological data analysis and in psychophysics."
      ]
    },
    {
      "cell_type": "markdown",
      "metadata": {
        "id": "gtuuMuCFHJtr"
      },
      "source": [
        "Currently has grown into an interactive system and high level programming language for general\n",
        "scientific and technical computation\n",
        "\n",
        "Common Uses for Python in Research\n",
        "• Data Acquisition\n",
        "• Multi-platform, Multi Format data importing\n",
        "• Analysis Tools (Existing,Custom)/Statistics\n",
        "• Graphing\n"
      ]
    },
    {
      "cell_type": "markdown",
      "metadata": {
        "id": "9sAJxlZ4HJtr"
      },
      "source": [
        "Data Acuisition:\n",
        "\n",
        "A framework for bringing live, measured data into computers via aquisition hardware\n",
        "\n",
        "![data-acquisition-system.png](https://github.com/BlohmLab/NSCI801-QuantNeuro/blob/master/Figures/data-acquisition-system.png?raw=1)"
      ]
    },
    {
      "cell_type": "markdown",
      "metadata": {
        "id": "H0W2edVCHJts"
      },
      "source": [
        "Multi-platform, Multi Format data importing\n",
        "\n",
        "• Data can be loaded into Python from almost any format and platform (numpy, pandas etc.)\n",
        "• Binary data files (eg. REX, PLEXON etc.)\n",
        "• Ascii Text (eg. Eyelink I, II)\n",
        "• Analog/Digital Data files\n",
        "\n",
        "\n",
        "![importing_data.png](https://github.com/BlohmLab/NSCI801-QuantNeuro/blob/master/Figures/importing_data2.png?raw=1)"
      ]
    },
    {
      "cell_type": "markdown",
      "metadata": {
        "id": "ZfpVu7TwHJts"
      },
      "source": [
        "Analysis Tools (Existing,Custom)/Statistics\n",
        "\n",
        "• A considerable library of analysis tools exist for data analysis (sklearn etc.)\n",
        "• Provides a framework for the design, creation, and implementation of any custom analysis tool\n",
        "  imaginable\n",
        "\n",
        "A considerable variety of statistical tests available including: Parametric and non-parametric, and various others (Scipy, sklearn etc)\n",
        "\n"
      ]
    },
    {
      "cell_type": "markdown",
      "metadata": {
        "id": "MHZvYtzxHJtt"
      },
      "source": [
        "Graphing\n",
        "\n",
        "• A Comprehensive array of plotting options available from 2 to 4 dimensions (matplotlib)\n",
        "• Full control of formatting, axes, and other visual representational elements\n",
        "\n",
        "![Mpl_screenshot_figures_and_code.png](https://github.com/BlohmLab/NSCI801-QuantNeuro/blob/master/Figures/Mpl_screenshot_figures_and_code.png?raw=1)"
      ]
    },
    {
      "cell_type": "markdown",
      "metadata": {
        "id": "9gVHEpo6HJtt"
      },
      "source": [
        "Machine Learning is the hottest trend in modern neuroscience (and science in general). Machine learning patents grew at a 34% rate between 2013 and 2017 and this is only set to increase in the future. And Python is the primary programming language used for much of the research and development in Machine Learning. So much so that Python is the top programming language for Machine Learning according to Github. However, while it is clear that Python is the most popular, this article focuses on the all-important question of “Why is Python the Best-Suited Programming Language for Machine Learning?”"
      ]
    },
    {
      "cell_type": "markdown",
      "metadata": {
        "id": "XGemYZEXHJtu"
      },
      "source": [
        "Since most of the students are new to Python, they could run into the following practical problems easily.\n",
        "\n",
        "1) Do not know how to install and set up the Python running environment;\n",
        "\n",
        "2) Do not know how to find the solutions effectively when facing the problems;\n",
        "\n",
        "3) Do not know how to collaborate with others when trying to finish the group tasks；\n",
        "\n",
        "4) Do not know how to handle version control, which may lead the code to chaotic.\n",
        "\n",
        "The problems mentioned above are the main pain points for Python beginners."
      ]
    },
    {
      "cell_type": "markdown",
      "metadata": {
        "id": "nhj-68lSHJtu"
      },
      "source": [
        "Your own machine and Anaconda \n",
        "\n",
        "![alt text](https://github.com/BlohmLab/NSCI801-QuantNeuro/blob/master/Figures/Screenshot_anaconda.png?raw=1)"
      ]
    },
    {
      "cell_type": "markdown",
      "metadata": {
        "id": "txUJYiaGHJtu"
      },
      "source": [
        "Getting Started\n",
        "\n",
        "To start working with Colab you first need to log in to your google account, then go to this link https://colab.research.google.com."
      ]
    },
    {
      "cell_type": "markdown",
      "metadata": {
        "id": "a3ipESHCHJtv"
      },
      "source": [
        "Opening Jupyter Notebook in Colab:\n",
        "On opening the website you will see a pop-up containing following tabs –"
      ]
    },
    {
      "cell_type": "markdown",
      "metadata": {
        "id": "f-sq8_TOHJtv"
      },
      "source": [
        "![Screenshot%202019-12-24%2013.54.17.png](https://github.com/BlohmLab/NSCI801-QuantNeuro/blob/master/Figures/Screenshot%202019-12-24%2013.54.17.png?raw=1)"
      ]
    },
    {
      "cell_type": "markdown",
      "metadata": {
        "id": "p3gZiYtDHJtw"
      },
      "source": [
        "EXAMPLES: Contain a number of Jupyter notebooks of various examples.\n",
        "RECENT: Jupyter notebook you have recently worked with.\n",
        "GOOGLE DRIVE: Jupyter notebook in your google drive.\n",
        "GITHUB: You can add Jupyter notebook from your GitHub but you first need to connect Colab with GitHub.\n",
        "UPLOAD: Upload from your local directory."
      ]
    },
    {
      "cell_type": "markdown",
      "metadata": {
        "id": "AYu6fJh-HJtw"
      },
      "source": [
        "On creating a new notebook, it will create a Jupyter notebook with Untitled.ipynb and save it to your google drive in a folder named Colab Notebooks. Now as it is essentially a Jupyter notebook, all commands of Jupyter notebooks will work here. \n",
        "\n",
        "![notebook_figure.png](https://github.com/BlohmLab/NSCI801-QuantNeuro/blob/master/Figures/notebook_figure.png?raw=1)"
      ]
    },
    {
      "cell_type": "markdown",
      "metadata": {
        "id": "5ML4cdpbHJtx"
      },
      "source": [
        "You can change runtime environment by selecting the “Runtime” dropdown menu. Select “Change runtime type”. \n",
        "\n",
        "![runtime_enviornment.png](https://github.com/BlohmLab/NSCI801-QuantNeuro/blob/master/Figures/runtime_enviornment.png?raw=1)"
      ]
    },
    {
      "cell_type": "markdown",
      "metadata": {
        "id": "M2qkDDQBHJty"
      },
      "source": [
        "Click the “Runtime” dropdown menu. Select “Change runtime type”. Now select anything(GPU, CPU, None) you want in the “Hardware accelerator” dropdown menu.\n",
        "\n",
        "![notebook_settings.png](https://github.com/BlohmLab/NSCI801-QuantNeuro/blob/master/Figures/notebook_settings.png?raw=1)\n"
      ]
    },
    {
      "cell_type": "markdown",
      "metadata": {
        "id": "BPc5dhJcHJty"
      },
      "source": [
        "Install Python packages –\n",
        "Use can use pip to install any package. For example:\n",
        "\n",
        "\n",
        "\"pip install pandas\"\n",
        "\n",
        "Commonly Used Packages\n",
        "\n",
        "1) os\n",
        "2) numpy\n",
        "3) scipy\n",
        "4) pandas\n"
      ]
    },
    {
      "cell_type": "markdown",
      "metadata": {
        "id": "9SangVvIHJtz"
      },
      "source": [
        "# Variables and Expressions"
      ]
    },
    {
      "cell_type": "markdown",
      "metadata": {
        "id": "UEFgx7OjHJt0"
      },
      "source": [
        "Solving equations using variables\n",
        "\n",
        "Expression language\n",
        "\n",
        "Expressions typed by the user are interpreted and evaluated by the python\n",
        "\n",
        "Variables are names used to store values \n",
        "\n",
        "Variable names allow stored values to be retrieved for calculations or permanently saved  \n",
        "\n",
        "Variable = Expression\n",
        "\n",
        "**Variable Names are Case Sensitive!\n"
      ]
    },
    {
      "cell_type": "markdown",
      "metadata": {
        "id": "CjjJpbbtHJt0"
      },
      "source": [
        "HELP DOCUMENTATION!!!!\n",
        "\n",
        "numpy: https://numpy.org\n",
        "scipy: https://www.scipy.org/scipylib/index.html\n",
        "pandas: https://pandas.pydata.org\n",
        "scikit-learn: https://scikit-learn.org/stable/\n",
        "\n",
        "THIS NEEDS TO BECOME YOUR BEST FRIEND!"
      ]
    },
    {
      "cell_type": "markdown",
      "metadata": {
        "id": "PXQ6INLSHJt0"
      },
      "source": [
        "# Lists"
      ]
    },
    {
      "cell_type": "markdown",
      "metadata": {
        "id": "XZPnb7DsHJt1"
      },
      "source": [
        "Lists:\n",
        "\n",
        "In Python programming, a list is created by placing all the items (elements) inside a square bracket [ ], separated by commas.\n",
        "\n",
        "It can have any number of items and they may be of different types (integer, float, string etc.)."
      ]
    },
    {
      "cell_type": "code",
      "metadata": {
        "id": "8aaqBN44HJt1"
      },
      "source": [
        "# empty list\n",
        "my_list = []\n",
        "# list of integers\n",
        "my_list = [1, 2, 3]\n",
        "# list with mixed datatypes\n",
        "my_list = [1, \"Hello\", 3.4]"
      ],
      "execution_count": null,
      "outputs": []
    },
    {
      "cell_type": "markdown",
      "metadata": {
        "id": "9s5lIdy4HJt3"
      },
      "source": [
        "Also, a list can even have another list as an item. This is called nested list."
      ]
    },
    {
      "cell_type": "code",
      "metadata": {
        "id": "d5QyT2UzHJt4"
      },
      "source": [
        "# nested list\n",
        "my_list = [\"mouse\", [8, 4, 6], ['a']]"
      ],
      "execution_count": null,
      "outputs": []
    },
    {
      "cell_type": "markdown",
      "metadata": {
        "id": "e3sESINQHJt5"
      },
      "source": [
        "How to access elements from a list?\n",
        "\n",
        "There are various ways in which we can access the elements of a list.\n",
        "\n",
        "List Index\n",
        "\n",
        "We can use the index operator [] to access an item in a list. Index starts from 0. So, a list having 5 elements will have index from 0 to 4.\n",
        "\n",
        "Trying to access an element other that this will raise an IndexError. The index must be an integer. We can't use float or other types, this will result into TypeError.\n",
        "\n",
        "Nested list are accessed using nested indexing."
      ]
    },
    {
      "cell_type": "markdown",
      "metadata": {
        "id": "uo38fFc7HJt6"
      },
      "source": [
        "![python-list-index.png](https://github.com/BlohmLab/NSCI801-QuantNeuro/blob/master/Figures/python-list-index.png?raw=1)"
      ]
    },
    {
      "cell_type": "code",
      "metadata": {
        "id": "QeYCoRiMHJt6",
        "outputId": "e2f80b02-5947-429e-b927-3ba222858dd7"
      },
      "source": [
        "my_list = ['p','r','o','b','e']\n",
        "# Output: p\n",
        "print(my_list[0])\n",
        "# Output: o\n",
        "print(my_list[2])\n",
        "# Output: e\n",
        "print(my_list[4])\n",
        "# Error! Only integer can be used for indexing\n",
        "# my_list[4.0]\n",
        "# Nested List\n",
        "n_list = [\"Happy\", [2,0,1,5]]\n",
        "# Nested indexing\n",
        "# Output: a\n",
        "print(n_list[0][1])    \n",
        "# Output: 5\n",
        "print(n_list[1][3])"
      ],
      "execution_count": null,
      "outputs": [
        {
          "output_type": "stream",
          "text": [
            "p\n",
            "o\n",
            "e\n",
            "a\n",
            "5\n"
          ],
          "name": "stdout"
        }
      ]
    },
    {
      "cell_type": "markdown",
      "metadata": {
        "id": "qifGnbwZHJt8"
      },
      "source": [
        "Negative indexing\n",
        "Python allows negative indexing for its sequences. The index of -1 refers to the last item, -2 to the second last item and so on."
      ]
    },
    {
      "cell_type": "code",
      "metadata": {
        "id": "s-BX-C9FHJt8",
        "outputId": "adf77884-ebf9-42f6-edc4-de8109aa14ee"
      },
      "source": [
        "my_list = ['p','r','o','b','e']\n",
        "# Output: e\n",
        "print(my_list[-1])\n",
        "# Output: p\n",
        "print(my_list[-5])"
      ],
      "execution_count": null,
      "outputs": [
        {
          "output_type": "stream",
          "text": [
            "e\n",
            "p\n"
          ],
          "name": "stdout"
        }
      ]
    },
    {
      "cell_type": "markdown",
      "metadata": {
        "id": "cCa-XiSLHJt-"
      },
      "source": [
        "List are mutable, meaning, their elements can be changed unlike string or tuple.\n",
        "\n",
        "We can use assignment operator (=) to change an item or a range of items.\n",
        "\n",
        "Finally, we can even add to lists using append, and extend"
      ]
    },
    {
      "cell_type": "code",
      "metadata": {
        "id": "IKq5vdyDHJt-",
        "outputId": "af6846ad-b4d5-4aa9-d59a-1eb16bc04b28"
      },
      "source": [
        "# mistake values\n",
        "odd = [2, 4, 6, 8]\n",
        "# change the 1st item    \n",
        "odd[0] = 1            \n",
        "# Output: [1, 4, 6, 8]\n",
        "print(odd)\n",
        "# change 2nd to 4th items\n",
        "odd[1:4] = [3, 5, 7]  \n",
        "# Output: [1, 3, 5, 7]\n",
        "print(odd)   \n",
        "\n",
        "odd = [1, 3, 5]\n",
        "odd.append(7)\n",
        "# Output: [1, 3, 5, 7]\n",
        "print(odd)\n",
        "odd.extend([9, 11, 13])\n",
        "# Output: [1, 3, 5, 7, 9, 11, 13]\n",
        "print(odd)\n"
      ],
      "execution_count": null,
      "outputs": [
        {
          "output_type": "stream",
          "text": [
            "[1, 4, 6, 8]\n",
            "[1, 3, 5, 7]\n",
            "[1, 3, 5, 7]\n",
            "[1, 3, 5, 7, 9, 11, 13]\n"
          ],
          "name": "stdout"
        }
      ]
    },
    {
      "cell_type": "markdown",
      "metadata": {
        "id": "SM2e0r3nHJt_"
      },
      "source": [
        "We can also use + operator to combine two lists. This is also called concatenation.\n",
        "\n",
        "The * operator repeats a list for the given number of times."
      ]
    },
    {
      "cell_type": "code",
      "metadata": {
        "id": "YcHn4yUgHJt_",
        "outputId": "05045848-3b00-496d-bf09-6a710fa53e68"
      },
      "source": [
        "odd = [1, 3, 5]\n",
        "# Output: [1, 3, 5, 9, 7, 5]\n",
        "print(odd + [9, 7, 5])\n",
        "#Output: [\"re\", \"re\", \"re\"]\n",
        "print([\"re\"] * 3)"
      ],
      "execution_count": null,
      "outputs": [
        {
          "output_type": "stream",
          "text": [
            "[1, 3, 5, 9, 7, 5]\n",
            "['re', 're', 're']\n"
          ],
          "name": "stdout"
        }
      ]
    },
    {
      "cell_type": "markdown",
      "metadata": {
        "id": "f-o4Re2pHJuA"
      },
      "source": [
        "Furthermore, we can insert one item at a desired location by using the method insert() or insert multiple items by squeezing it into an empty slice of a list."
      ]
    },
    {
      "cell_type": "code",
      "metadata": {
        "id": "NSKWY1SXHJuB",
        "outputId": "d1a4103d-449c-4166-dbbc-6d3a820701d5"
      },
      "source": [
        "odd = [1, 9]\n",
        "odd.insert(1,3)\n",
        "# Output: [1, 3, 9] \n",
        "print(odd)\n",
        "odd[2:2] = [5, 7]\n",
        "# Output: [1, 3, 5, 7, 9]\n",
        "print(odd)"
      ],
      "execution_count": null,
      "outputs": [
        {
          "output_type": "stream",
          "text": [
            "[1, 3, 9]\n",
            "[1, 3, 5, 7, 9]\n"
          ],
          "name": "stdout"
        }
      ]
    },
    {
      "cell_type": "markdown",
      "metadata": {
        "id": "wpawIwC1HJuC"
      },
      "source": [
        "Python List Methods:\n",
        "\n",
        "append() - Add an element to the end of the list\n",
        "extend() - Add all elements of a list to the another list\n",
        "insert() - Insert an item at the defined index\n",
        "remove() - Removes an item from the list\n",
        "pop() - Removes and returns an element at the given index\n",
        "clear() - Removes all items from the list\n",
        "index() - Returns the index of the first matched item\n",
        "count() - Returns the count of number of items passed as an argument\n",
        "sort() - Sort items in a list in ascending order\n",
        "reverse() - Reverse the order of items in the list\n",
        "copy() - Returns a shallow copy of the list"
      ]
    },
    {
      "cell_type": "markdown",
      "metadata": {
        "id": "-NGO7tH0HJuC"
      },
      "source": [
        "# Array"
      ]
    },
    {
      "cell_type": "markdown",
      "metadata": {
        "id": "bo48vjCQHJuC"
      },
      "source": [
        "If you create arrays using the array module, all elements of the array must be of the same numeric type.\n",
        "\n",
        "Create a NumPy Array\n",
        "\n",
        "Simplest way to create an array in Numpy is to use Python List \n",
        "\n",
        "To convert python list to a numpy array by using the object np.array.\n",
        "\n",
        "but before we do we need to import the package\n",
        "\n",
        "import numpy as np"
      ]
    },
    {
      "cell_type": "code",
      "metadata": {
        "id": "tBw5JXj9HJuC",
        "outputId": "7015674f-f134-42fb-ad0a-1ad84c7acc74"
      },
      "source": [
        "import numpy as np\n",
        "\n",
        "myPythonList = [1,9,8,3]\n",
        "\n",
        "numpy_array_from_list = np.array(myPythonList)\n",
        "\n",
        "print(numpy_array_from_list)"
      ],
      "execution_count": null,
      "outputs": [
        {
          "output_type": "stream",
          "text": [
            "[1 9 8 3]\n"
          ],
          "name": "stdout"
        }
      ]
    },
    {
      "cell_type": "markdown",
      "metadata": {
        "id": "2VbsF6DtHJuE"
      },
      "source": [
        "Mathematical Operations on an Array\n",
        "You could perform mathematical operations like additions, subtraction, division and multiplication on an array. The syntax is the array name followed by the operation (+.-,*,/) followed by the operand"
      ]
    },
    {
      "cell_type": "code",
      "metadata": {
        "id": "EqHjNZMCHJuE",
        "outputId": "bfd593a7-9758-42f9-a2da-5d186903f034"
      },
      "source": [
        "numpy_array_from_list + 10\n",
        "\n",
        "#This operation adds 10 to each element of the numpy array."
      ],
      "execution_count": null,
      "outputs": [
        {
          "output_type": "execute_result",
          "data": {
            "text/plain": [
              "array([11, 19, 18, 13])"
            ]
          },
          "metadata": {
            "tags": []
          },
          "execution_count": 9
        }
      ]
    },
    {
      "cell_type": "markdown",
      "metadata": {
        "id": "fHjCn4zhHJuF"
      },
      "source": [
        "Shape of Array\n",
        "You can check the shape of the array with the object shape preceded by the name of the array. In the same way, you can check the type with dtypes."
      ]
    },
    {
      "cell_type": "code",
      "metadata": {
        "id": "gxjo3Q_sHJuF",
        "outputId": "7fe113a9-9e13-4429-f750-3b4218bbe4dd"
      },
      "source": [
        "a  = np.array([1,2,3])\n",
        "print(a.shape)\n",
        "print(a.dtype)"
      ],
      "execution_count": null,
      "outputs": [
        {
          "output_type": "stream",
          "text": [
            "(3,)\n",
            "int64\n"
          ],
          "name": "stdout"
        }
      ]
    },
    {
      "cell_type": "markdown",
      "metadata": {
        "id": "a8XFOssuHJuG"
      },
      "source": [
        "2 Dimension Array and 3 Dimension Array\n",
        "\n",
        "You can add a dimension with a \",\"coma\n",
        "\n",
        "Note that it has to be within the bracket []\n"
      ]
    },
    {
      "cell_type": "code",
      "metadata": {
        "id": "dDQan0TVHJuG",
        "outputId": "04dff1dc-961e-44e7-a539-daa5b9ace4a1"
      },
      "source": [
        "### 3 dimension\n",
        "d = np.array([[[1, 2,3],[4, 5, 6]],[[7, 8,9],[10, 11, 12]]])\n",
        "print(d.shape)"
      ],
      "execution_count": null,
      "outputs": [
        {
          "output_type": "stream",
          "text": [
            "(2, 2, 3)\n"
          ],
          "name": "stdout"
        }
      ]
    },
    {
      "cell_type": "markdown",
      "metadata": {
        "id": "vuXGXiJqHJuH"
      },
      "source": [
        "What is np.zeros and np.ones?\n",
        "\n",
        "You can create a matrix full of zeroes or ones using np.zeros and np.one commands respectively."
      ]
    },
    {
      "cell_type": "code",
      "metadata": {
        "id": "dQRG3-20HJuH"
      },
      "source": [
        "#ones\n",
        "A = np.ones((2,3))\n",
        "#zeros\n",
        "B = np.zeros((3,4))"
      ],
      "execution_count": null,
      "outputs": []
    },
    {
      "cell_type": "markdown",
      "metadata": {
        "id": "0Err3zOzHJuI"
      },
      "source": [
        "Reshape Data\n",
        "\n",
        "In some occasions, you need to reshape the data from wide to long. You can use the reshape function for this. The syntax is"
      ]
    },
    {
      "cell_type": "code",
      "metadata": {
        "id": "7ZXZElGEHJuI",
        "outputId": "34331a72-021f-4e12-e470-96cb52e68434"
      },
      "source": [
        "e  = np.array([(1,2,3), (4,5,6)])\n",
        "print(e)\n",
        "e.reshape(3,2)"
      ],
      "execution_count": null,
      "outputs": [
        {
          "output_type": "stream",
          "text": [
            "[[1 2 3]\n",
            " [4 5 6]]\n"
          ],
          "name": "stdout"
        },
        {
          "output_type": "execute_result",
          "data": {
            "text/plain": [
              "array([[1, 2],\n",
              "       [3, 4],\n",
              "       [5, 6]])"
            ]
          },
          "metadata": {
            "tags": []
          },
          "execution_count": 13
        }
      ]
    },
    {
      "cell_type": "markdown",
      "metadata": {
        "id": "lHXBeloYHJuJ"
      },
      "source": [
        "EXTRACTING INFORMATION FROM ARRAYS IS BASICALLY IDENTICAL TO LISTS!!!!"
      ]
    },
    {
      "cell_type": "markdown",
      "metadata": {
        "id": "yFxIwJDuHJuJ"
      },
      "source": [
        "The key difference between an array and a list is, arrays are designed to handle vectorized operations while a python list is not.\n",
        "\n",
        "That means, if you apply a function it is performed on every item in the array, rather than on the whole array object.\n",
        "\n",
        "Let’s suppose you want to add the number 2 to every item in the list. The intuitive way to do it is something like this:"
      ]
    },
    {
      "cell_type": "code",
      "metadata": {
        "id": "rEIn0LjTHJuJ",
        "outputId": "ab40576f-a7d4-4ea1-c10c-036bd52763f8"
      },
      "source": [
        "#e is an array defined above\n",
        "D = e+15\n",
        "print(\"the array is \", D)\n",
        "#odd is a list from above\n",
        "#odd +15"
      ],
      "execution_count": null,
      "outputs": [
        {
          "output_type": "stream",
          "text": [
            "the array is  [[16 17 18]\n",
            " [19 20 21]]\n"
          ],
          "name": "stdout"
        }
      ]
    },
    {
      "cell_type": "markdown",
      "metadata": {
        "id": "5ff1yET-HJuK"
      },
      "source": [
        "You can always convert an array back to a python list using "
      ]
    },
    {
      "cell_type": "code",
      "metadata": {
        "id": "esDFTQ8BHJuK"
      },
      "source": [
        "odd.tolist()\n",
        "print(odd)"
      ],
      "execution_count": null,
      "outputs": []
    },
    {
      "cell_type": "markdown",
      "metadata": {
        "id": "diFVmKlFHJuL"
      },
      "source": [
        "Array Operations like Mean, min, max, etc...."
      ]
    },
    {
      "cell_type": "code",
      "metadata": {
        "id": "jEmspHTPHJuL",
        "outputId": "18e7cc7e-b813-4490-e016-3cb4920a700a"
      },
      "source": [
        "print(\"Mean value is: \", D.mean()) # alternatively could be np.mean(D)\n",
        "print(\"Max value is: \", D.max()) # alternatively could be np.max(D)\n",
        "print(\"Min value is: \", D.min()) # alternatively could be np.min(D)\n"
      ],
      "execution_count": null,
      "outputs": [
        {
          "output_type": "stream",
          "text": [
            "Mean value is:  18.5\n",
            "Max value is:  21\n",
            "Min value is:  16\n"
          ],
          "name": "stdout"
        }
      ]
    },
    {
      "cell_type": "markdown",
      "metadata": {
        "id": "Z89tfZT6HJuM"
      },
      "source": [
        "Reshaping and Flattening Multidimensional arrays\n",
        "Reshaping is changing the arrangement of items so that shape of the array changes while maintaining the same number of dimensions."
      ]
    },
    {
      "cell_type": "code",
      "metadata": {
        "id": "qp-L8KAbHJuM",
        "outputId": "96018f9b-fa55-4819-e644-c5a043d13e65"
      },
      "source": [
        "D.reshape(1,-1)\n",
        "D.flatten()"
      ],
      "execution_count": null,
      "outputs": [
        {
          "output_type": "execute_result",
          "data": {
            "text/plain": [
              "array([16, 17, 18, 19, 20, 21])"
            ]
          },
          "metadata": {
            "tags": []
          },
          "execution_count": 20
        }
      ]
    },
    {
      "cell_type": "markdown",
      "metadata": {
        "id": "L-IxdreoHJuM"
      },
      "source": [
        "# Dataframe"
      ]
    },
    {
      "cell_type": "markdown",
      "metadata": {
        "id": "LcGi730oHJuN"
      },
      "source": [
        "What Are Pandas Data Frames?\n",
        "\n",
        "Before you start, let’s have a brief recap of what DataFrames are.\n",
        "Those who are familiar with R know the data frame as a way to store data in rectangular grids that can easily be overviewed. Each row of these grids corresponds to measurements or values of an instance, while each column is a vector containing data for a specific variable. This means that a data frame’s rows do not need to contain, but can contain, the same type of values: they can be numeric, character, logical, etc.\n"
      ]
    },
    {
      "cell_type": "markdown",
      "metadata": {
        "id": "6XkZu8P0HJuN"
      },
      "source": [
        "Creating DataFrames\n",
        "\n",
        "Obviously, making your DataFrames is your first step in almost anything that you want to do when it comes to data munging in Python. Sometimes, you will want to start from scratch, but you can also convert other data structures, such as lists or NumPy arrays, to Pandas DataFrames. In this section, you’ll only cover the latter. "
      ]
    },
    {
      "cell_type": "code",
      "metadata": {
        "id": "02VkrhoRHJuN",
        "outputId": "ed924baa-4320-498b-e489-3dc88ebd0d12"
      },
      "source": [
        "import pandas as pd\n",
        "\n",
        "data = np.array([[1,2],[3,4]])\n",
        "col = ['Col1','Col2']\n",
        "\n",
        "df = pd.DataFrame(data=data,columns=col)\n",
        "\n",
        "print(df)"
      ],
      "execution_count": null,
      "outputs": [
        {
          "output_type": "stream",
          "text": [
            "   Col1  Col2\n",
            "0     1     2\n",
            "1     3     4\n"
          ],
          "name": "stdout"
        }
      ]
    },
    {
      "cell_type": "markdown",
      "metadata": {
        "id": "LONE92xJHJuO"
      },
      "source": [
        "Fundamental DataFrame Operations\n",
        "\n",
        "Now that you have put your data in a more convenient Pandas DataFrame structure, it’s time to get to the real work!\n",
        "This first section will guide you through the first steps of working with DataFrames in Python. It will cover the basic operations that you can do on your newly created DataFrame: adding, selecting, deleting, renaming, … You name it!\n",
        "\n",
        "Selecting an Index or Column \n"
      ]
    },
    {
      "cell_type": "code",
      "metadata": {
        "id": "DDKb-YNjHJuO",
        "outputId": "64c0b6a2-8890-46a5-d800-1fc9e0ed8c9e"
      },
      "source": [
        "# Using `iloc[]`\n",
        "print('using iloc ', df.iloc[0][0]) #can't use boolean\n",
        "\n",
        "# Using `loc[]`\n",
        "print('using loc ', df.loc[0]['Col2']) #CAN use boolean\n",
        "\n",
        "# Using `at[]`\n",
        "print('using at ',df.at[0,'Col2'])\n",
        "\n",
        "# Using `iat[]`\n",
        "print('using iat ', df.iat[0,0])\n"
      ],
      "execution_count": null,
      "outputs": [
        {
          "output_type": "stream",
          "text": [
            "using iloc  1\n",
            "using loc  1\n",
            "using at  2\n",
            "using iat  1\n"
          ],
          "name": "stdout"
        }
      ]
    },
    {
      "cell_type": "markdown",
      "metadata": {
        "id": "qODIIOjSHJuP"
      },
      "source": [
        "How do we select just the data, columns or Index"
      ]
    },
    {
      "cell_type": "code",
      "metadata": {
        "id": "7Im3wEMYHJuP",
        "outputId": "901ff2e9-dbf0-4650-9df2-7334898862e1"
      },
      "source": [
        "#get values\n",
        "vals = df.values\n",
        "print(\"these are the values \", vals)\n",
        "\n",
        "#get columns\n",
        "cls = df.columns.values\n",
        "print(\"these are the values \", cls)\n",
        "\n",
        "#get columns\n",
        "idx = df.index.values\n",
        "print(\"these are the values \", idx)\n",
        "\n",
        "\n"
      ],
      "execution_count": null,
      "outputs": [
        {
          "output_type": "stream",
          "text": [
            "these are the values  [[1 2]\n",
            " [3 4]]\n",
            "these are the values  ['Col1' 'Col2']\n",
            "these are the values  [0 1]\n"
          ],
          "name": "stdout"
        }
      ]
    },
    {
      "cell_type": "markdown",
      "metadata": {
        "id": "UR7ihbvkHJuP"
      },
      "source": [
        "From here all the same operations done on lists and arrays are possible!!!"
      ]
    },
    {
      "cell_type": "code",
      "metadata": {
        "id": "CWf4ZWS3HJuP"
      },
      "source": [
        ""
      ],
      "execution_count": null,
      "outputs": []
    }
  ]
}