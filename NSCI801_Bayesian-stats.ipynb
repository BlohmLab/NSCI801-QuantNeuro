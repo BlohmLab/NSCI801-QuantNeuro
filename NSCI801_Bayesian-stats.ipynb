{
 "cells": [
  {
   "cell_type": "markdown",
   "metadata": {
    "slideshow": {
     "slide_type": "slide"
    }
   },
   "source": [
    "# NSCI 801 - Quantitative Neuroscience\n",
    "## Bayesian statistics and hypothesis testing\n",
    "Gunnar Blohm"
   ]
  },
  {
   "cell_type": "markdown",
   "metadata": {
    "slideshow": {
     "slide_type": "slide"
    }
   },
   "source": [
    "### Motivation and pitfalls of classic methods\n",
    "Frequentist statistics assumptions:\n",
    "* parameters are unknown but **fixed**\n",
    "* uncertainty is in the **sample** based on the idea of infinite repeated sampling\n",
    "* **ignores** prior knowledge\n",
    "\n",
    "Bayesian alternative assumptions:\n",
    "* parameters are unknown and therefore **random**\n",
    "* uncertainty is the probability **distribution of the population parameter**\n",
    "* explicitly **includes** prior knowledge\n",
    "\n",
    "Pragmatically, sometimes it makes sense to use frequentist approach, sometimes it makes sense to use Bayesian approach, sometimes it's best to provide both!"
   ]
  },
  {
   "cell_type": "markdown",
   "metadata": {
    "slideshow": {
     "slide_type": "subslide"
    }
   },
   "source": [
    "### Motivation and pitfalls of classic methods\n",
    "So what do Bayesian stats buy you?\n",
    "* incorporates background knowledge (frequentists stats test the same Null Hyp. over and over again)\n",
    "* you expect something is going on if you did this experiment / analysis $\\rightarrow$ Null Hyp. (= \"nothing is going on\") is often a bad starting point \n",
    "* allows to explicitly carry out replication analyses (due to integration of background) $\\rightarrow$ plausibility of previous research findings can be evaluated in the light of new data\n",
    "* gives you the probability of the (Null) Hyp.\n"
   ]
  },
  {
   "cell_type": "markdown",
   "metadata": {
    "slideshow": {
     "slide_type": "slide"
    }
   },
   "source": [
    "### Conditional probabilities and Bayes rule\n",
    "$$ P(a,b) = P(a|b) P(b) = P(b|a) P(a)$$\n",
    "Rearranging, results in:\n",
    "$$ P(a|b) = \\frac{P(b|a)P(a)}{P(b)}$$\n",
    "With:\n",
    "$$ P(b) = \\sum_{j} P(b|a_j)P(a_j) $$"
   ]
  },
  {
   "cell_type": "markdown",
   "metadata": {
    "slideshow": {
     "slide_type": "subslide"
    }
   },
   "source": [
    "### Bayes rule example\n",
    "<img style=\"float: center; width:500px;\" src=\"stuff/Cancer_cond_prob.png\">"
   ]
  },
  {
   "cell_type": "markdown",
   "metadata": {
    "slideshow": {
     "slide_type": "fragment"
    }
   },
   "source": [
    "$$P(cancer | test+) = \\frac{P(test+ | cancer) P(cancer)}{P(test+)}$$"
   ]
  },
  {
   "cell_type": "markdown",
   "metadata": {
    "slideshow": {
     "slide_type": "fragment"
    }
   },
   "source": [
    "$$P(cancer | test+) = \\frac{9/10 * 10/1000}{9/10 * 10/1000 + 99/990 * 990/1000} = 9/108 = 8.3 \\% $$"
   ]
  },
  {
   "cell_type": "markdown",
   "metadata": {
    "slideshow": {
     "slide_type": "subslide"
    }
   },
   "source": [
    "### Bayesian integration with uncertainty\n",
    "$$ P(a|b) = \\frac{P(b|a)P(a)}{P(b)}$$\n",
    "<img style=\"float: center; width:600px;\" src=\"stuff/Bayes-distributions.png\">"
   ]
  },
  {
   "cell_type": "markdown",
   "metadata": {
    "slideshow": {
     "slide_type": "slide"
    }
   },
   "source": [
    "### Bayes Factor\n",
    "**A general method for hypothesis testing!**\n",
    "\n",
    "Let's start with data ($\\mathbf{D}$), assumed to have arisen under one of two hypotheses $H_1$ or $H_2$, according to $P(\\mathbf{D}|H_1)$ and $P(\\mathbf{D}|H_2)$. Then we can compute the posterior:\n",
    "\n",
    "$$P(H_k|\\mathbf{D}) = \\frac{P(\\mathbf{D}|H_k) P(H_k)}{P(\\mathbf{D}|H_1) P(H_1) + P(\\mathbf{D}|H_2) P(H_2)}$$\n",
    "\n",
    "What we really want to know is the odds that the data is more sonsistent with $H_1$ than with $H_2$.(reminder: odds = probability / (1-probability)). We thus want to know:\n",
    "\n",
    "$$\\frac{P(H_1|\\mathbf{D})}{P(H_2|\\mathbf{D})} = \\frac{P(\\mathbf{D}|H_1)}{P(\\mathbf{D}|H_2)} \\frac{P(H_1)}{P(H_2)} = B_{21} \\frac{P(H_1)}{P(H_2)}$$\n",
    "\n",
    "where $B_{12}$ is the Bayes Factor, i.e. the ratio of posterior odds **regardless** of the value of  the prior odds!\n"
   ]
  },
  {
   "cell_type": "markdown",
   "metadata": {
    "slideshow": {
     "slide_type": "subslide"
    }
   },
   "source": [
    "### Bayes Factor\n",
    "**A general method for hypothesis testing!**\n",
    "\n",
    "Bayes Factor (BF) is a quantity for the evidence in observed data to support one model (or hypothesis) against another, where the two models are usually a “null” ($H_1$) vs an “alternative” ($H_2$).\n",
    "\n",
    "Sometimes a **Bayesian p-value** is computed as:\n",
    "$$\\frac{P(\\mathbf{D}|H_1)}{P(\\mathbf{D}|H_1) + P(\\mathbf{D}|H_2)}$$"
   ]
  },
  {
   "cell_type": "markdown",
   "metadata": {
    "slideshow": {
     "slide_type": "subslide"
    }
   },
   "source": [
    "### Bayes factor example\n",
    "Coin flipping example. Suppose you flip a coin 100 times. Joe believes the coin is uneven and that heads have a 75% probability. Gunnar believes it's even. After 100 tosses, the coin lands 62 heads. Is it an uneven coin?"
   ]
  },
  {
   "cell_type": "markdown",
   "metadata": {
    "slideshow": {
     "slide_type": "fragment"
    }
   },
   "source": [
    "$H_1$: even coin\n",
    "\n",
    "$H_2$: uneven coin with $P(heads)=0.75$"
   ]
  },
  {
   "cell_type": "code",
   "execution_count": 17,
   "metadata": {
    "slideshow": {
     "slide_type": "fragment"
    }
   },
   "outputs": [
    {
     "data": {
      "text/plain": [
       "[<matplotlib.lines.Line2D at 0x179d84199b0>]"
      ]
     },
     "execution_count": 17,
     "metadata": {},
     "output_type": "execute_result"
    },
    {
     "data": {
      "image/png": "[encoded data removed]",
      "text/plain": [
       "<Figure size 432x288 with 1 Axes>"
      ]
     },
     "metadata": {
      "needs_background": "light"
     },
     "output_type": "display_data"
    }
   ],
   "source": [
    "import numpy as np\n",
    "from scipy.stats import binom\n",
    "from matplotlib import pyplot as plt\n",
    "\n",
    "N = 100 # number coin flips\n",
    "\n",
    "x = np.linspace(1, N, N)\n",
    "dist1 = binom(N, 0.5) # Gunnar's belief\n",
    "dist2 = binom(N, 0.75) # Joe's belief\n",
    "toss = 62\n",
    "\n",
    "plt.plot(x, dist1.pmf(x))\n",
    "plt.plot(x, dist2.pmf(x))\n",
    "plt.plot([toss, toss],[0, 0.1])"
   ]
  },
  {
   "cell_type": "code",
   "execution_count": 21,
   "metadata": {
    "slideshow": {
     "slide_type": "fragment"
    }
   },
   "outputs": [
    {
     "name": "stdout",
     "output_type": "stream",
     "text": [
      "BF =  3.3226284070273113\n",
      "Bayesian p-value =  0.7686592725911169\n"
     ]
    }
   ],
   "source": [
    "# compute Bayes Factor\n",
    "toss = 62\n",
    "joe = dist2.pmf(toss)\n",
    "gunnar = dist1.pmf(toss)\n",
    "\n",
    "print(\"BF = \", gunnar/joe)\n",
    "print(\"Bayesian p-value = \", gunnar/(joe+gunnar))"
   ]
  },
  {
   "cell_type": "markdown",
   "metadata": {
    "slideshow": {
     "slide_type": "subslide"
    }
   },
   "source": [
    "### Bayes Factor\n",
    "**Interpretation**\n",
    "\n",
    "<img style=\"float: center; width:500px;\" src=\"stuff/BF-interpr.png\">"
   ]
  },
  {
   "cell_type": "markdown",
   "metadata": {
    "slideshow": {
     "slide_type": "subslide"
    }
   },
   "source": [
    "### Bayes Factor\n",
    "Unfortunately, in real life things are usually more complicated...\n",
    "\n",
    "e.g. $H_1$: even coin; $H_2$: uneven coin (any probability)\n",
    "\n",
    "Now we have to compute the following:\n",
    "$$B = \\frac{\\int_{\\Theta_1} P(X| \\theta) P(\\theta | H_1) d \\theta}{\\int_{\\Theta_2} P(X| \\theta) P(\\theta | H_1) d \\theta}$$"
   ]
  },
  {
   "cell_type": "markdown",
   "metadata": {
    "slideshow": {
     "slide_type": "subslide"
    }
   },
   "source": [
    "### Bayes Factor (& other Bayesian stats)\n",
    "Practically, there are easier ways to do this than in Python...\n",
    "* [JASP](https://jasp-stats.org/)\n",
    "* [Bayesian Inference in R](https://cran.r-project.org/web/views/Bayesian.html)\n",
    "\n",
    "If you want to use Python (totally possible)\n",
    "* call R packages from Python with [rpy2](https://rpy2.readthedocs.io/en/latest/)\n",
    "* use [PyMC3](https://docs.pymc.io/)\n",
    "* use [PyStan](https://mc-stan.org/users/interfaces/pystan)\n"
   ]
  },
  {
   "cell_type": "markdown",
   "metadata": {
    "slideshow": {
     "slide_type": "slide"
    }
   },
   "source": [
    "### Maximum a posteriori (MAP) estimation\n",
    "Goal: we want to estimate an unobserved population parameter $\\theta$. Then we can compute the write the probability of observing data $D$ for a given population paprameter $\\theta$ as: $P(D| \\theta)$\n",
    "\n",
    "This is the likelihood of the data given the model and we use this directly to estimate $\\theta$ through maximum likelihood estimation (MLE):\n",
    "$$\\hat{\\theta}_{MLE}=\\underset{\\theta}{\\operatorname{argmax}} P(D| \\theta)$$\n",
    "\n",
    "But if a prior distribution over $\\theta$ exists, then we can include that to compute the posterior:\n",
    "$$\\hat{\\theta}_{MAP}=\\underset{\\theta}{\\operatorname{argmax}} P(D| \\theta) P(\\theta)$$\n",
    "Note: we have not included the marginal because it is independent of $\\theta$ and thus just a scaling constant...\n",
    "\n",
    "**More about this in next class!**"
   ]
  },
  {
   "cell_type": "markdown",
   "metadata": {
    "slideshow": {
     "slide_type": "slide"
    }
   },
   "source": [
    "### Bayesian ANOVA\n",
    "The idea is again that we use ANOVA for model (hypothesis) comparison.\n",
    "\n",
    "Supposed you have 2 fixed factors A and B. Then a Bayesian ANOVA will test the following models:\n",
    "* the null model\n",
    "* the model with a main effect of A\n",
    "* the model with a main effect of B\n",
    "* the model with a main effect of A and a main effect of B\n",
    "* the model with a main effect of A, a main effect of B, and an interaction between A and B\n",
    "\n",
    "\n"
   ]
  },
  {
   "cell_type": "markdown",
   "metadata": {
    "slideshow": {
     "slide_type": "subslide"
    }
   },
   "source": [
    "### Bayesian ANOVA\n",
    "Bayesian ANOVAs will compute the Bayes Factor and use the priors to extimate the posterior model probabilities. \n",
    "\n",
    "ANOVA-based Bayes Factors typically use the best model as a reference\n",
    "\n",
    "This is easy to do / interpret with [JASP](https://jasp-stats.org/)"
   ]
  }
 ],
 "metadata": {
  "celltoolbar": "Slideshow",
  "kernelspec": {
   "display_name": "Python 3",
   "language": "python",
   "name": "python3"
  },
  "language_info": {
   "codemirror_mode": {
    "name": "ipython",
    "version": 3
   },
   "file_extension": ".py",
   "mimetype": "text/x-python",
   "name": "python",
   "nbconvert_exporter": "python",
   "pygments_lexer": "ipython3",
   "version": "3.6.8"
  }
 },
 "nbformat": 4,
 "nbformat_minor": 2
}
